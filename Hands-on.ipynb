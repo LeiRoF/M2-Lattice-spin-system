{
  "cells": [
    {
      "cell_type": "markdown",
      "metadata": {
        "id": "qx52gxibewKf"
      },
      "source": [
        "$$\\renewcommand{\\ket}[1]{\\left|{#1}\\right\\rangle}$$\n",
        "\n",
        "<div align=center>\n",
        "\n",
        "### Open me with [Google Colab](https://colab.research.google.com/) for a better experience!\n",
        "Also, collapse all the code cells to have a clear view of the notebook.\n",
        "\n",
        "</div>\n",
        "\n",
        "$$\\renewcommand{\\bra}[1]{\\left\\langle{#1}\\right|}$$"
      ]
    },
    {
      "attachments": {},
      "cell_type": "markdown",
      "metadata": {},
      "source": [
        "---\n",
        "# Initialization"
      ]
    },
    {
      "cell_type": "code",
      "execution_count": 653,
      "metadata": {},
      "outputs": [],
      "source": [
        "# Check, install and import requirements and define utility functions.\n",
        "#@title ###### Check, install and import requirements and define utility functions.\n",
        "\n",
        "import pkg_resources\n",
        "from pkg_resources import DistributionNotFound, VersionConflict\n",
        "import os\n",
        "\n",
        "dependencies = [\n",
        "  'numpy',\n",
        "  'matplotlib'\n",
        "]\n",
        "\n",
        "try:\n",
        "    pkg_resources.require(dependencies)\n",
        "except DistributionNotFound:\n",
        "    os.system(\"pip install numpy\")\n",
        "    os.system(\"pip install matplotlib\")\n",
        "\n",
        "import numpy as np\n",
        "import matplotlib.pyplot as plt\n",
        "import scipy.linalg\n",
        "\n",
        "from copy import deepcopy\n",
        "from IPython.display import display as disp, Math, Latex\n",
        "from ipywidgets import widgets, interact, interactive\n",
        "\n",
        "def as_latex_matrix(m, replace_zeros = None):\n",
        "  return r\"\\begin{pmatrix}\"+\" \\\\\\\\ \".join([\" & \".join([(str(i) if i != 0 or not replace_zeros else str(replace_zeros)) for i in j]) for j in m])+\"\\end{pmatrix}\"\n",
        "\n",
        "def as_latex_vector(v, replace_zeros = None):\n",
        "  return r\"\\begin{pmatrix}\"+\" \\\\\\\\ \".join([f\"{i:.3f}\" if np.round(i,3) != 0 or not replace_zeros else str(replace_zeros)for i in v])+\"\\end{pmatrix}\"\n",
        "\n",
        "\n",
        "def print_latex(code):\n",
        "  disp(Math(code))"
      ]
    },
    {
      "cell_type": "code",
      "execution_count": 654,
      "metadata": {},
      "outputs": [],
      "source": [
        "# Include base code (given in subject)\n",
        "#@title ###### Include base code (given in subject)\n",
        "\n",
        "import numpy as np\n",
        "import scipy as sp\n",
        "from numpy import linalg as la\n",
        "import matplotlib.pyplot as plt\n",
        "from numpy import linalg as LA;\n",
        "from scipy import linalg as LA2;\n",
        "from numpy import random as rand\n",
        "from scipy.sparse import diags\n",
        "\n",
        "def tensorvect(a,b):\n",
        "    return(np.tensordot(a,b,axes=0).flatten())\n",
        "\n",
        "def tensorvectop(a,b):\n",
        "    return LA2.kron(a,b)\n",
        "\n",
        "def opchain(a,i,nspin):\n",
        "    if i==1:\n",
        "        return LA2.kron(a,np.identity(2**(nspin-1)))\n",
        "    else:\n",
        "        if i==nspin:\n",
        "            return LA2.kron(np.identity(2**(nspin-1)),a)\n",
        "        else:\n",
        "            return LA2.kron(LA2.kron(np.identity(2**(i-1)),a),np.identity(2**(nspin-i)))\n",
        "        \n",
        "def opchain2(a,i,b,j,nspin):\n",
        "    if i==1:\n",
        "        if j==nspin:\n",
        "            return LA2.kron(LA2.kron(a,np.identity(2**(nspin-2))),b)\n",
        "        else:\n",
        "            return LA2.kron(LA2.kron(a,np.identity(2**(j-2))),LA2.kron(b,np.identity(2**(nspin-j))))      \n",
        "    else:\n",
        "        if j==nspin:\n",
        "            return LA2.kron(LA2.kron(np.identity(2**(i-1)),a),LA2.kron(np.identity(2**(nspin-(i+1))),b))\n",
        "        else:\n",
        "            return LA2.kron(LA2.kron(LA2.kron(np.identity(2**(i-1)),a),LA2.kron(np.identity(2**(j-(i+1))),b)),np.identity(2**(nspin-j)))\n",
        "            \n",
        "def buildstate(bin):\n",
        "    v=[0. for i in range(2**len(bin))];\n",
        "    v[int(bin,2)]=1.\n",
        "    return np.array(v)\n",
        "\n",
        "\n",
        "def diracrep(psi,nspin):\n",
        "    state='';\n",
        "    for i in range(2**nspin):\n",
        "        if abs(psi[i])>10**(-6):\n",
        "            state=state+'+'+str(psi[i])+'|'+format(i,'0'+str(nspin)+'b')+'>'\n",
        "    return state\n",
        "\n",
        "def binnum(n):\n",
        "    l=['0','1'];\n",
        "    if n==1:\n",
        "        return l\n",
        "    else:\n",
        "        return ['0'+i for i in binnum(n-1)]+['1'+i for i in binnum(n-1)]\n",
        "    \n",
        "def densmat(psi,i,nspin):\n",
        "    if i>1:\n",
        "        listindex0=binnum(i-1)\n",
        "        listindex0=[j+'0' for j in listindex0]\n",
        "    else:\n",
        "        listindex0=['0']\n",
        "    if i<nspin:\n",
        "        listcomp=binnum(nspin-i)\n",
        "        listindex0=list(np.array([[j+k for k in listcomp] for j in listindex0]).flatten())\n",
        "    if i>1:\n",
        "        listindex1=binnum(i-1)\n",
        "        listindex1=[j+'1' for j in listindex1]\n",
        "    else:\n",
        "        listindex1=['1']\n",
        "    if i<nspin:\n",
        "        listcomp=binnum(nspin-i)\n",
        "        listindex1=list(np.array([[j+k for k in listcomp] for j in listindex1]).flatten())\n",
        "    rho00=sum(psi[int(j,2)]*np.conjugate(psi[int(j,2)]) for j in listindex0)\n",
        "    rho11=sum(psi[int(j,2)]*np.conjugate(psi[int(j,2)]) for j in listindex1)\n",
        "    rho01=sum(psi[int(j,2)]*np.conjugate(psi[int(listindex1[listindex0.index(j)],2)]) for j in listindex0)\n",
        "    return np.array([[rho00,rho01],[np.conjugate(rho01),rho11]])\n",
        "\n",
        "def avdensmat(psi,nspin):\n",
        "    rho=densmat(psi,1,nspin);\n",
        "    if nspin>1:\n",
        "        for i in range(2,nspin+1):\n",
        "            rho=rho+densmat(psi,i,nspin)\n",
        "    rho=rho/nspin;\n",
        "    return rho\n",
        "\n",
        "def purity(rho):\n",
        "    rho2 = np.dot(rho,rho)\n",
        "    tr = np.trace(rho2)\n",
        "    return(tr)\n",
        "\n",
        "def SvN(rho):\n",
        "    vp=np.real(LA.eigvals(rho));\n",
        "    S=0.;\n",
        "    for i in range(len(vp)):\n",
        "        if vp[i]>0.:\n",
        "            S=S+vp[i]*np.log(vp[i])\n",
        "    return -S\n",
        "\n",
        "def entangl(psi,nspin):\n",
        "    S=SvN(densmat(psi,1,nspin));\n",
        "    if nspin>1:\n",
        "        for i in range(2,nspin+1):\n",
        "            S=S+SvN(densmat(psi,i,nspin))\n",
        "    return S/nspin\n",
        "\n",
        "def Disorder(psi,nspin):\n",
        "    return SvN(avdensmat(psi,nspin))-entangl(psi,nspin)\n",
        "\n",
        "sigX=np.array([[0.,1.],[1.,0.]]);\n",
        "sigY=np.array([[0.,-1j],[1j,0.]]);\n",
        "sigZ=np.array([[1.,0.],[0.,-1.]]);\n",
        "sig1=np.array([[1.,0.],[0.,0.]]);\n",
        "id2 =np.array([[1.,0.],[0.,1.]]);\n",
        "\n",
        "NOT=sigX;\n",
        "HAD1=np.array([[1./np.sqrt(2.),1./np.sqrt(2.)],[1./np.sqrt(2.),-1./np.sqrt(2.)]]);\n",
        "CNOT=np.array([[1.,0.,0.,0.],[0.,1.,0.,0.],[0.,0.,0.,1.],[0.,0.,1.,0.]]);\n",
        "HAD2=np.array([[0.5,0.5,0.5,0.5],[0.5,-0.5,0.5,-0.5],[0.5,0.5,-0.5,-0.5],[0.5,-0.5,-0.5,0.5]]);\n",
        "SWAP=np.array([[1.,0.,0.,0.],[0.,0.,1.,0.],[0.,1.,0.,0.],[0.,0.,0.,1.]]);"
      ]
    },
    {
      "cell_type": "markdown",
      "metadata": {
        "id": "xkIl70V4Z19S"
      },
      "source": [
        "---\n",
        "# Simulation parameters"
      ]
    },
    {
      "cell_type": "code",
      "execution_count": 655,
      "metadata": {
        "cellView": "form",
        "id": "HiSZFOA6Z19U"
      },
      "outputs": [],
      "source": [
        "# Definition of simulation parameters\n",
        "#@title ###### Definition of simulation parameters\n",
        "\n",
        "J_value = 1 #@param {type:\"number\"}\n",
        "\n",
        "Jx_value = 1 #@param {type:\"number\"}\n",
        "Jy_value = 1 #@param {type:\"number\"}\n",
        "Jz_value = 1 #@param {type:\"number\"}\n",
        "\n",
        "N = 3 #@param {type:\"number\"}"
      ]
    },
    {
      "cell_type": "markdown",
      "metadata": {
        "id": "rbnJ9xUyZ19U"
      },
      "source": [
        "---\n",
        "# Chapter 1\n",
        "\n",
        "### Constants\n",
        "We set\n",
        "$$\n",
        "\\hbar = 1\\\\\n",
        "\\omega = 0.5\n",
        "$$"
      ]
    },
    {
      "cell_type": "code",
      "execution_count": 656,
      "metadata": {
        "cellView": "form",
        "id": "GeSfaps5Z19V"
      },
      "outputs": [],
      "source": [
        "# Defining constants\n",
        "#@title ###### Defining constants\n",
        "\n",
        "w = 0.5 #@param {type:\"number\"}\n",
        "hbar = 1 #@param {type:\"number\"}"
      ]
    },
    {
      "cell_type": "markdown",
      "metadata": {
        "id": "JLgOccd3Z19V"
      },
      "source": [
        "### Pauli matrices\n",
        "We know the Pauli matrices:\n",
        "\n",
        "$$\n",
        "\\sigma_x = \\begin{pmatrix} 0 & 1 \\\\ 1 & 0 \\end{pmatrix}\n",
        "$$\n",
        "\n",
        "$$\n",
        "\\sigma_y = \\begin{pmatrix} 0 & -i \\\\ i & 0 \\end{pmatrix}\n",
        "$$\n",
        "\n",
        "$$\n",
        "\\sigma_z = \\begin{pmatrix} 1 & 0 \\\\ 0 & -1 \\end{pmatrix}\n",
        "$$"
      ]
    },
    {
      "cell_type": "code",
      "execution_count": 657,
      "metadata": {
        "cellView": "form",
        "id": "eOZAIQDVZ19W"
      },
      "outputs": [],
      "source": [
        "# Definition of pauli matrices\n",
        "#@title ###### Definition of pauli matrices\n",
        "\n",
        "sigma = np.array([\n",
        "    [[0, 1],\n",
        "     [1, 0]],\n",
        "\n",
        "    [[0, -1j],\n",
        "     [1j,  0]],\n",
        "    \n",
        "    [[1,  0],\n",
        "     [0, -1]]\n",
        "\n",
        "])"
      ]
    },
    {
      "cell_type": "markdown",
      "metadata": {
        "id": "rGdFWOekZ19X"
      },
      "source": [
        "### Spins\n",
        "We can deduce the spin matrices\n",
        "\n",
        "$$\n",
        "S_x = \\frac \\hbar 2 \\sigma_x = \\ket 0 \\bra 1 + \\ket 1 \\bra 0    \n",
        "$$\n",
        "\n",
        "$$\n",
        "S_y = \\frac \\hbar 2 \\sigma_y = \\ket 0 \\bra 1 - \\ket 1 \\bra 0\n",
        "$$\n",
        "\n",
        "$$\n",
        "S_z = \\frac \\hbar 2 \\sigma_z = \\ket 0 \\bra 0 - \\ket 1 \\bra 1\n",
        "$$"
      ]
    },
    {
      "cell_type": "code",
      "execution_count": 658,
      "metadata": {
        "cellView": "form",
        "id": "_j66LeNgZ19Y"
      },
      "outputs": [],
      "source": [
        "# Definition of the spin matrices\n",
        "#@title ###### Definition of the spin matrices\n",
        "\n",
        "S = [hbar/2 * sigma[i] for i in range(3)]\n",
        "\n",
        "#print(S[0], \"\\n\\n\", S[1], \"\\n\\n\", S[2])"
      ]
    },
    {
      "cell_type": "markdown",
      "metadata": {
        "id": "LdRoZ1c7Z19Z"
      },
      "source": [
        "### $h_0$\n",
        "And then, $h_0$ is defined such as:\n",
        "$$\n",
        "h_0 = - \\gamma B S_z =\n",
        "\\begin{pmatrix}\n",
        "\\frac \\omega 2 & ... & 0 \\\\\n",
        "... & \\searrow & ... \\\\\n",
        "0 & ... & \\frac \\omega 2\n",
        "\\end{pmatrix}\n",
        "$$\n",
        "\n",
        "$$\n",
        "\\rightarrow h_0 = \\begin{pmatrix} -\\omega & 0 \\\\ 0 & 0 \\end{pmatrix} D\n",
        "$$"
      ]
    },
    {
      "cell_type": "code",
      "execution_count": 659,
      "metadata": {
        "cellView": "form",
        "id": "fFuiQjBSZ19Z"
      },
      "outputs": [],
      "source": [
        "# Definition of h_0 and I\n",
        "#@title ###### Definition of $h_0$ and $I$\n",
        "\n",
        "h_0 = np.array([\n",
        "    [-w, 0],\n",
        "    [ 0, 0]\n",
        "])\n",
        "\n",
        "I = np.eye(N)"
      ]
    },
    {
      "cell_type": "markdown",
      "metadata": {
        "id": "MhHdjM8nZ19a"
      },
      "source": [
        "### Hamiltonian\n",
        "If we consider a system with several spins, the total hamiltonian is the sum of the hamiltonians of each spin and the interaction between them.\n",
        "\n",
        "For exemple, in the case of 2 spins:\n",
        "\n",
        "$$\n",
        "H_T = H_1 + H_2 + H_{12} = H_0 + H_{int}\n",
        "$$\n",
        "\n",
        "Where\n",
        "\n",
        "$$\n",
        "H_1 = h_0 \\otimes I_z = \\begin{pmatrix} -\\omega & 0 \\\\ 0 & 0 \\end{pmatrix} \\otimes \\begin{pmatrix} 1 & 0 \\\\ 0 & 1 \\end{pmatrix} = \\begin{pmatrix} -\\omega & 0 & 0 & 0 \\\\ 0 & -\\omega & 0 & 0 \\\\ 0 & 0 & 0 & 0 \\\\ 0 & 0 & 0 & 0 \\end{pmatrix}\n",
        "$$\n",
        "\n",
        "$$\n",
        "H_2 = I_2 \\otimes h_0 = \\begin{pmatrix} 1 & 0 \\\\ 0 & 1 \\end{pmatrix} \\otimes \\begin{pmatrix} -\\omega & 0 \\\\ 0 & 0 \\end{pmatrix} = \\begin{pmatrix} -\\omega & 0 & 0 & 0 \\\\ 0 & 0 & 0 & 0 \\\\ 0 & 0 & -\\omega & 0 \\\\ 0 & 0 & 0 & 0 \\end{pmatrix}\n",
        "$$\n",
        "\n",
        "And $H_{12}$ is defined such as:\n",
        "$$\n",
        "\\begin{array}{rl}\n",
        "H_{int} &= - \\sum_{i=1}^N \\sum_{j>i} \\vec J_{ij} \\vec S_i \\odot \\vec S_j\\\\\n",
        "&= - \\sum_{i=1}^N \\sum_{j>i} \\sum_{u \\in {x,y,z}} \\vec J_{ij}^u \\vec S_i^u\\vec S_j^u\\\\\n",
        "\\end{array}\n",
        "$$"
      ]
    },
    {
      "cell_type": "code",
      "execution_count": 660,
      "metadata": {
        "cellView": "form",
        "id": "hXCArmbtZ19c"
      },
      "outputs": [],
      "source": [
        "# Definition of H_int\n",
        "#@title ###### Definition of H_int\n",
        "\n",
        "def get_H_int(J, S, verbose = False):\n",
        "\n",
        "    # Getting the number of spins\n",
        "    _, N, _ = J.shape\n",
        "\n",
        "    # Initalizing the Hamiltonian with a matrixc of size*size filled of 0\n",
        "    H = np.zeros((2**N, 2**N), dtype=complex)\n",
        "\n",
        "    # Sums\n",
        "    for i in range(1,N): # 1 to N-1\n",
        "        for j in range(i+1, N+1): # i+1 to N\n",
        "            for u in range(3): # 0 to 2\n",
        "                H -= J[u,i-1,j-1] * opchain2(S[u], i, S[u], j, N) # cf. eq 1.6\n",
        "\n",
        "                # Debug\n",
        "                if verbose:\n",
        "                    print(\"\\n------------------------------\\n\")\n",
        "                    print(\"i j u J[u,i,j]\")\n",
        "                    print(i,j, [\"x\",\"y\",\"z\"][u], J[u,i,j])\n",
        "                    print(\" \")\n",
        "                    print(J[u,i,j] * opchain2(S[u], i+1, S[u], j+1, N).astype(float))\n",
        "    \n",
        "    return H"
      ]
    },
    {
      "cell_type": "markdown",
      "metadata": {
        "id": "hXzn49WKZ19b"
      },
      "source": [
        "---\n",
        "# Chapter 2"
      ]
    },
    {
      "cell_type": "markdown",
      "metadata": {
        "id": "IgwUIXbxZ19b"
      },
      "source": [
        "## 2.1 - Studied models\n",
        "\n",
        "> **ToDo:** Build with python the quantum Hamiltonian $H$ as a $2^N × 2^N$ array for each model. In the final report, give all the Hamiltonians for the cases N = 3 and N = 8\n"
      ]
    },
    {
      "attachments": {},
      "cell_type": "markdown",
      "metadata": {
        "id": "l_FRuxOHZ19c"
      },
      "source": [
        "### Models\n",
        "\n",
        "<div align=center>\n",
        "\n",
        "#### Ferromagnetic\n",
        "\n",
        "$$\n",
        "\\forall i,j \\in \\{1,...,N\\} \\:\\:\\:\\:\\: J_{ij, closed}^u \\begin{cases}\n",
        "    \\geq 0 & \\text{if } j = i+1 \\quad \\forall u\\\\\n",
        "    = 0 & \\text{otherwise}\n",
        "\\end{cases}\n",
        "$$\n",
        "\n",
        "####Antiferromagnetic\n",
        "\n",
        "$$\n",
        "\\forall i,j \\in \\{1,...,N\\} \\:\\:\\:\\:\\: J_{ij, closed}^u \\begin{cases}\n",
        "    \\leq 0 & \\text{if } j = i+1 \\quad \\forall u\\\\\n",
        "    = 0 & \\text{otherwise}\n",
        "\\end{cases}\n",
        "$$\n",
        "\n",
        "#### Open Ising model\n",
        "\n",
        "$$\n",
        "\\forall i,j \\in \\{1,...,N\\}\\:\\:\\:\\:\\:  J_{ij, open}^u = \\begin{cases}\n",
        "    J & \\text{if } u = z \\text{ and } j = i+1 \\:\\:\\:\\:\\: \\text{ (each atom interact with the next one)}\\\\\n",
        "    0 & \\text{if } u = \\{x,y\\} \\end{cases}\n",
        "$$\n",
        "\n",
        "\n",
        "#### Closed Ising model\n",
        "\n",
        "$$\n",
        "\\forall i,j \\in \\{1,...,N\\} \\:\\:\\:\\:\\: J_{ij, closed}^u = \\begin{cases}\n",
        "    J & \\text{if } u = z \\text{ and } j = i+1 \\:\\:\\:\\:\\: &\\text{ (each atom interact with the next one)}\\\\\n",
        "    J & \\text{if } j = N \\text{ and } i=1 \\:\\:\\:\\:\\: &\\text{ (last atom interact with the first one)}\\\\\n",
        "    0 & \\text{otherwise}\\end{cases}  \n",
        "$$\n",
        "\n",
        "\n",
        "#### Heisenberg XXX\n",
        "\n",
        "$$\n",
        "\\forall i,j \\in \\{1,...,N\\} \\:\\:\\:\\:\\: J_{ij, closed}^u = \\begin{cases}\n",
        "    J_x & \\text{if } j = i+1\\\\\n",
        "    0 & \\text{otherwise}\n",
        "\\end{cases}\n",
        "$$\n",
        "\n",
        "#### Heisenberg XXZ\n",
        "\n",
        "$$\n",
        "\\forall i,j \\in \\{1,...,N\\} \\:\\:\\:\\:\\: J_{ij, closed}^u = \\begin{cases}\n",
        "    J_x & \\text{if } u = {x,y} \\text{ and } j = i+1\\\\\n",
        "    J_z & \\text{if } u = z \\text{ and } j = i+1\\\\\n",
        "    0 & \\text{otherwise}\n",
        "\\end{cases}\n",
        "$$\n",
        "\n",
        "#### Heisenberg XYZ\n",
        "\n",
        "$$\n",
        "\\forall i,j \\in \\{1,...,N\\} \\:\\:\\:\\:\\: J_{ij, closed}^u = \\begin{cases}\n",
        "    J_x & \\text{if } u = x \\text{ and } j = i+1\\\\\n",
        "    J_y & \\text{if } u = y \\text{ and } j = i+1\\\\\n",
        "    J_z & \\text{if } u = z \\text{ and } j = i+1\\\\\n",
        "    0 & \\text{otherwise}\n",
        "\\end{cases}\n",
        "$$\n",
        "\n",
        "</div>"
      ]
    },
    {
      "cell_type": "code",
      "execution_count": 661,
      "metadata": {
        "cellView": "form",
        "colab": {
          "base_uri": "https://localhost:8080/"
        },
        "id": "xmQ5WKEBZ19d",
        "outputId": "5c28a4c0-20be-4093-9fd4-d6a2e37cf0d8"
      },
      "outputs": [
        {
          "name": "stdout",
          "output_type": "stream",
          "text": [
            "For Heisenberg XXX model:\n"
          ]
        },
        {
          "data": {
            "text/latex": [
              "$\\displaystyle J_x = \\begin{pmatrix}0 & 1 & 0 \\\\ 0 & 0 & 1 \\\\ 0 & 0 & 0\\end{pmatrix}\\:\\:\\:\\:\\:J_y = \\begin{pmatrix}0 & 1 & 0 \\\\ 0 & 0 & 1 \\\\ 0 & 0 & 0\\end{pmatrix}\\:\\:\\:\\:\\:J_z = \\begin{pmatrix}0 & 1 & 0 \\\\ 0 & 0 & 1 \\\\ 0 & 0 & 0\\end{pmatrix}$"
            ],
            "text/plain": [
              "<IPython.core.display.Math object>"
            ]
          },
          "metadata": {},
          "output_type": "display_data"
        }
      ],
      "source": [
        "#Computing models\n",
        "#@title ###### Computing J using opened Ising models\n",
        "\n",
        "i,j = np.meshgrid(np.arange(N), np.arange(N))\n",
        "\n",
        "# Ferromatic and antiferromatic\n",
        "\n",
        "Jferro = (np.random.rand(3*N*N).reshape((3,N,N)) + 1) * (j+1 == i)\n",
        "Jantiferro = - Jferro\n",
        "\n",
        "# Open Ising model\n",
        "\n",
        "Jx = np.zeros((3,N,N))\n",
        "Jy = np.zeros((3,N,N))\n",
        "Jz = np.zeros((3,N,N))\n",
        "\n",
        "Jx[0,:,:] = J_value * (j+1 == i) # Ising X model -> J = J on direction x and when j = i+1 \n",
        "Jy[1,:,:] = J_value * (j+1 == i) # Ising Z model -> J = J on direction y and when j = i+1 \n",
        "Jz[2,:,:] = J_value * (j+1 == i) # Ising Z model -> J = J on direction z and when j = i+1 \n",
        "\n",
        "# Closed Ising model\n",
        "\n",
        "JxC = np.copy(Jx)\n",
        "JzC = np.copy(Jz)\n",
        "JyC = np.copy(Jy)\n",
        "\n",
        "JxC[0,0,-1] = J_value\n",
        "JyC[1,0,-1] = J_value\n",
        "JzC[2,0,-1] = J_value\n",
        "\n",
        "# Heisenberg XXX\n",
        "Jhxxx = np.ones((3,N,N)) * (j+1 == i)\n",
        "\n",
        "# Heisenberg XXZ\n",
        "Jhxxz = np.ones((3,N,N)) * (j+1 == i)\n",
        "Jhxxz[:1,:,:] *= Jx_value\n",
        "Jhxxz[2,:,:] *= Jz_value\n",
        "\n",
        "# Heisenberg XYZ\n",
        "Jhxyz = np.ones((3,N,N)) * (j+1 == i)\n",
        "Jhxyz[0,:,:] *= Jx_value\n",
        "Jhxyz[1,:,:] *= Jy_value\n",
        "Jhxyz[2,:,:] *= Jz_value\n",
        "\n",
        "\n",
        "display = \"Heisenberg XXX\" #@param [\"None\", \"Insing-X opened\", \"Insing-Y opened\", \"Insing-Z opened\", \"Insing-X closed\", \"Insing-Y closed\", \"Insing-Z closed\", \"Heisenberg XXX\", \"Heisenberg XXZ\", \"Heisenberg XYZ\"] {type:\"string\"}\n",
        "\n",
        "selection = {\n",
        "    \"Insing-X opened\":Jx,\n",
        "    \"Insing-Y opened\":Jy,\n",
        "    \"Insing-Z opened\":Jz,\n",
        "    \"Insing-X closed\":JxC,\n",
        "    \"Insing-Y closed\":JyC,\n",
        "    \"Insing-Z closed\":JzC,\n",
        "    \"Heisenberg XXX\":Jhxxx,\n",
        "    \"Heisenberg XXZ\":Jhxxz,\n",
        "    \"Heisenberg XYZ\":Jhxyz\n",
        "}\n",
        "\n",
        "if display == \"None\":\n",
        "    J = JzC\n",
        "else:\n",
        "    J = selection[display]\n",
        "\n",
        "    print(f\"For {display} model:\")\n",
        "    print_latex(r\"J_x = \" + as_latex_matrix(J[0].astype(int)) + r\"\\:\\:\\:\\:\\:\"\n",
        "              + r\"J_y = \" + as_latex_matrix(J[1].astype(int)) + r\"\\:\\:\\:\\:\\:\"\n",
        "              + r\"J_z = \" + as_latex_matrix(J[2].astype(int))\n",
        "    )\n",
        "\n"
      ]
    },
    {
      "cell_type": "markdown",
      "metadata": {
        "id": "cs4DrZGbZ19e"
      },
      "source": [
        "### Free Hamiltonian\n",
        "We remember that the free hamiltonians for the i-st spin is:\n",
        "\n",
        "$$\n",
        "H_i = I_1 \\otimes ... \\otimes I_{i-1} \\otimes h_0 \\otimes I_{i+1} \\otimes... \\otimes I_N\n",
        "$$\n",
        "$$\\rightarrow h_0 \\text{ is at position } i$$"
      ]
    },
    {
      "cell_type": "code",
      "execution_count": 662,
      "metadata": {
        "cellView": "form",
        "colab": {
          "base_uri": "https://localhost:8080/"
        },
        "id": "GhRpyRzkZ19f",
        "outputId": "246d53ef-e4e3-4938-a4fd-a93b9f8acfae"
      },
      "outputs": [
        {
          "data": {
            "text/latex": [
              "$\\displaystyle H_0 = \\begin{pmatrix}-1.5 & 0 & 0 & 0 & 0 & 0 & 0 & 0 \\\\ 0 & -1.0 & 0 & 0 & 0 & 0 & 0 & 0 \\\\ 0 & 0 & -1.0 & 0 & 0 & 0 & 0 & 0 \\\\ 0 & 0 & 0 & -0.5 & 0 & 0 & 0 & 0 \\\\ 0 & 0 & 0 & 0 & -1.0 & 0 & 0 & 0 \\\\ 0 & 0 & 0 & 0 & 0 & -0.5 & 0 & 0 \\\\ 0 & 0 & 0 & 0 & 0 & 0 & -0.5 & 0 \\\\ 0 & 0 & 0 & 0 & 0 & 0 & 0 & 0\\end{pmatrix}$"
            ],
            "text/plain": [
              "<IPython.core.display.Math object>"
            ]
          },
          "metadata": {},
          "output_type": "display_data"
        }
      ],
      "source": [
        "# Computing free Hamiltonian\n",
        "#@title ###### Computing free Hamiltonian\n",
        "\n",
        "H0_LIST = [opchain(h_0, i+1, N) for i in range(N)]\n",
        "H0 = np.sum(H0_LIST, axis=0)\n",
        "\n",
        "if display != \"None\":\n",
        "  print_latex(r\"H_0 = \" + as_latex_matrix(np.real(H0), replace_zeros=\"0\"))"
      ]
    },
    {
      "cell_type": "markdown",
      "metadata": {
        "id": "oQXncwctZ19f"
      },
      "source": [
        "### Interaction Hamiltonian\n",
        "We recall that the interaction Hamiltonian is defined such as:\n",
        "\n",
        "$$\n",
        "\\begin{array}{rl}\n",
        "H_{int} &= - \\sum_{i=1}^N \\sum_{j>i} \\vec J_{ij} \\vec S_i \\odot \\vec S_j\\\\\n",
        "&= - \\sum_{i=1}^N \\sum_{j>i} \\sum_{u \\in {x,y,z}} \\vec J_{ij}^u \\vec S_i^u\\vec S_j^u\\\\\n",
        "\\end{array}\n",
        "$$"
      ]
    },
    {
      "cell_type": "code",
      "execution_count": 663,
      "metadata": {
        "cellView": "form",
        "colab": {
          "base_uri": "https://localhost:8080/"
        },
        "id": "HC0JN3ilZ19f",
        "outputId": "5677a02e-661e-413f-b0da-2973a7c1208e"
      },
      "outputs": [
        {
          "name": "stdout",
          "output_type": "stream",
          "text": [
            "For Heisenberg XXX model:\n"
          ]
        },
        {
          "data": {
            "text/latex": [
              "$\\displaystyle H_{int} = \\begin{pmatrix}-0.5 & 0 & 0 & 0 & 0 & 0 & 0 & 0 \\\\ 0 & 0 & -0.5 & 0 & 0 & 0 & 0 & 0 \\\\ 0 & -0.5 & 0.5 & 0 & -0.5 & 0 & 0 & 0 \\\\ 0 & 0 & 0 & 0 & 0 & -0.5 & 0 & 0 \\\\ 0 & 0 & -0.5 & 0 & 0 & 0 & 0 & 0 \\\\ 0 & 0 & 0 & -0.5 & 0 & 0.5 & -0.5 & 0 \\\\ 0 & 0 & 0 & 0 & 0 & -0.5 & 0 & 0 \\\\ 0 & 0 & 0 & 0 & 0 & 0 & 0 & -0.5\\end{pmatrix}$"
            ],
            "text/plain": [
              "<IPython.core.display.Math object>"
            ]
          },
          "metadata": {},
          "output_type": "display_data"
        }
      ],
      "source": [
        "# Computing interaction Hamiltonians for each model\n",
        "#@title ###### Computing interaction Hamiltonians for each model\n",
        "\n",
        "Hi = get_H_int(J,S)\n",
        "\n",
        "if display != \"None\":\n",
        "  print(\"For \" + display + \" model:\")\n",
        "  print_latex(r\"H_{int} = \" + as_latex_matrix(np.real(Hi), replace_zeros=\"0\"))"
      ]
    },
    {
      "cell_type": "markdown",
      "metadata": {
        "id": "pRZfIESkZ19g"
      },
      "source": [
        "### Total Hamiltonian\n",
        "\n",
        "$$\n",
        "H_{T} = H_0 + H_{int}\n",
        "$$"
      ]
    },
    {
      "cell_type": "code",
      "execution_count": 664,
      "metadata": {
        "cellView": "form",
        "colab": {
          "base_uri": "https://localhost:8080/"
        },
        "id": "4IRxw5b7Z19g",
        "outputId": "36557305-23af-4218-9f72-044a2d3a0f3e"
      },
      "outputs": [
        {
          "name": "stdout",
          "output_type": "stream",
          "text": [
            "For Heisenberg XXX model:\n"
          ]
        },
        {
          "data": {
            "text/latex": [
              "$\\displaystyle H_T = \\begin{pmatrix}-2.0 & 0 & 0 & 0 & 0 & 0 & 0 & 0 \\\\ 0 & -1.0 & -0.5 & 0 & 0 & 0 & 0 & 0 \\\\ 0 & -0.5 & -0.5 & 0 & -0.5 & 0 & 0 & 0 \\\\ 0 & 0 & 0 & -0.5 & 0 & -0.5 & 0 & 0 \\\\ 0 & 0 & -0.5 & 0 & -1.0 & 0 & 0 & 0 \\\\ 0 & 0 & 0 & -0.5 & 0 & 0 & -0.5 & 0 \\\\ 0 & 0 & 0 & 0 & 0 & -0.5 & -0.5 & 0 \\\\ 0 & 0 & 0 & 0 & 0 & 0 & 0 & -0.5\\end{pmatrix}$"
            ],
            "text/plain": [
              "<IPython.core.display.Math object>"
            ]
          },
          "metadata": {},
          "output_type": "display_data"
        }
      ],
      "source": [
        "# Computing total Hamiltonians for each model\n",
        "#@title ###### Computing total Hamiltonians for each model\n",
        "\n",
        "H = H0 + Hi\n",
        "\n",
        "if display != \"None\":\n",
        "  print(\"For \" + display + \" model:\")\n",
        "  print_latex(r\"H_T = \" + as_latex_matrix(np.real(H), replace_zeros=\"0\"))"
      ]
    },
    {
      "cell_type": "markdown",
      "metadata": {},
      "source": [
        "## 2.2 - Diagonalization algorithm"
      ]
    },
    {
      "cell_type": "markdown",
      "metadata": {},
      "source": [
        "### Ground state\n",
        "\n",
        "Pseudo code:\n",
        "\n",
        "$$\n",
        "\\begin{aligned}\n",
        "&\\text { take random vector }\\left|\\phi_0\\right\\rangle \\\\\n",
        "&\\text { normalize }\\left|\\phi_0\\right\\rangle \\\\\n",
        "&H \\leftarrow H-\\text { shift } * \\operatorname{id}_{2^N} \\\\\n",
        "&\\text { while } \\| H\\left|\\phi_0\\right\\rangle-\\left\\langle\\phi_0|H| \\phi_0\\right\\rangle\\left|\\phi_0\\right\\rangle \\|>\\epsilon \\text { and } k \\leq k_{\\max } \\text { do } \\\\\n",
        "&\\quad\\left|\\phi_0\\right\\rangle \\leftarrow H\\left|\\phi_0\\right\\rangle \\\\\n",
        "&\\quad \\text { normalize }\\left|\\phi_0\\right\\rangle \\\\\n",
        "&\\quad k \\leftarrow k+1 \\\\\n",
        "&\\text { end while } \\\\\n",
        "&H \\leftarrow H+\\text { shift } * \\operatorname{id}_{2^N} \\\\\n",
        "&\\lambda_0 \\leftarrow\\left\\langle\\phi_0|H| \\phi_0\\right\\rangle\n",
        "\\end{aligned}\n",
        "$$\n",
        "\n",
        "The parameters of the algorithm are\n",
        "- $\\text{shift}$ (positive real number): the shifting value used to ensure a negative spectrum;\n",
        "- $\\epsilon$: the wanted precision concerning the verification of the eigenequation (typically $\\epsilon$ = 10−8);\n",
        "- $k_{max}$: the maximal number of iterations, if $k$ reaches $k_{max}$ before the eigenequation be satisfied with\n",
        "the precision $\\epsilon$ then the algorithm has not converged."
      ]
    },
    {
      "cell_type": "code",
      "execution_count": 665,
      "metadata": {},
      "outputs": [
        {
          "name": "stdout",
          "output_type": "stream",
          "text": [
            "Converged in 63 iterations\n",
            "For Heisenberg XXX model:\n"
          ]
        },
        {
          "data": {
            "text/latex": [
              "$\\displaystyle \\phi_0 = \\begin{pmatrix}-0.516-0.857j \\\\ 0 \\\\ 0 \\\\ 0 \\\\ 0 \\\\ 0 \\\\ 0 \\\\ 0\\end{pmatrix}\\quad \\lambda_0 = -2.000\\quad \\text{and using numpy:} \\quad \\phi_0 = \\begin{pmatrix}1.000+0.000j \\\\ 0 \\\\ 0 \\\\ 0 \\\\ 0 \\\\ 0 \\\\ 0 \\\\ 0\\end{pmatrix}\\quad \\lambda_0 = -2.000$"
            ],
            "text/plain": [
              "<IPython.core.display.Math object>"
            ]
          },
          "metadata": {},
          "output_type": "display_data"
        }
      ],
      "source": [
        "# Ground state\n",
        "\n",
        "def average(operator, state):\n",
        "    return state.conj().T @ operator @ state\n",
        "\n",
        "def ground_state(H, shift = None, kmax=10000, eps=1e-8):\n",
        "    if shift is None:\n",
        "        shift = int(abs(np.amax(H)) * 10)\n",
        "        \n",
        "    phi = np.exp(1j * np.random.rand(2**N) * 2 * np.pi)\n",
        "    phi = phi / np.linalg.norm(phi)\n",
        "    H = H - shift * np.eye(2**N)\n",
        "    k = 0\n",
        "    while np.linalg.norm(H @ phi - average(H, phi)*phi) > eps and (k <= kmax):\n",
        "        phi = H @ phi\n",
        "        phi = phi / np.linalg.norm(phi)\n",
        "        k += 1\n",
        "    H = H + shift * np.eye(2**N)\n",
        "    print(f\"Converged in {k} iterations\")\n",
        "    return phi, average(H, phi)\n",
        "\n",
        "phi0, l0 = ground_state(H)\n",
        "\n",
        "if display != \"None\":\n",
        "    print(\"For \" + display + \" model:\")\n",
        "    print_latex(r\"\\phi_0 = \"\n",
        "        + as_latex_vector(phi0, replace_zeros=\"0\")\n",
        "        + r\"\\quad \\lambda_0 = \"\n",
        "        + f\"{np.real(l0):.3f}\"\n",
        "        + r\"\\quad \\text{and using numpy:} \\quad \\phi_0 = \"\n",
        "        + as_latex_vector(np.linalg.eigh(H)[1][0], replace_zeros=\"0\")\n",
        "        + r\"\\quad \\lambda_0 = \"\n",
        "        + f\"{np.linalg.eigh(H)[0][0]:.3f}\")"
      ]
    },
    {
      "cell_type": "markdown",
      "metadata": {},
      "source": [
        "### First excited state\n",
        "\n",
        "Pseudo code:\n",
        "$$\n",
        "\\begin{aligned}\n",
        "&\\text { take random vector }\\left|\\phi_1\\right\\rangle \\\\\n",
        "&\\left|\\phi_1\\right\\rangle \\leftarrow\\left|\\phi_1\\right\\rangle-\\left\\langle\\phi_0 \\mid \\phi_1\\right\\rangle\\left|\\phi_0\\right\\rangle \\\\\n",
        "&\\text { normalize }\\left|\\phi_1\\right\\rangle \\\\\n",
        "&H \\leftarrow H-\\text { shift }^* \\text { id }_{2^N} \\\\\n",
        "&\\text { while } \\| H\\left|\\phi_1\\right\\rangle-\\left\\langle\\phi_1|H| \\phi_1\\right\\rangle\\left|\\phi_1\\right\\rangle \\|>\\epsilon \\text { and } k<k_{\\text {max }} \\text { do } \\\\\n",
        "&\\quad \\phi_1 \\leftarrow H \\phi_1 \\\\\n",
        "&\\quad\\left|\\phi_1\\right\\rangle \\leftarrow\\left|\\phi_1\\right\\rangle-\\left\\langle\\phi_0 \\mid \\phi_1\\right\\rangle\\left|\\phi_0\\right\\rangle \\\\\n",
        "&\\quad \\text { normalize }\\left|\\phi_1\\right\\rangle \\\\\n",
        "&\\quad k \\leftarrow k+1 \\\\\n",
        "&\\text { end while } \\\\\n",
        "&H \\leftarrow H+\\text { shift } * \\text { id }_{2^N} \\\\\n",
        "&\\lambda_1 \\leftarrow\\left\\langle\\phi_1|H| \\phi_1\\right\\rangle\n",
        "\\end{aligned}\n",
        "$$"
      ]
    },
    {
      "cell_type": "code",
      "execution_count": 666,
      "metadata": {},
      "outputs": [
        {
          "name": "stdout",
          "output_type": "stream",
          "text": [
            "Converged in 3961 iterations\n",
            "For Heisenberg XXX model:\n"
          ]
        },
        {
          "data": {
            "text/latex": [
              "$\\displaystyle \\phi_1 = \\begin{pmatrix}0 \\\\ 0.471+0.334j \\\\ 0.471+0.334j \\\\ 0 \\\\ 0.471+0.334j \\\\ 0 \\\\ 0 \\\\ 0\\end{pmatrix}\\quad \\lambda_1 = -1.500\\quad \\text{and using numpy:} \\quad \\phi_1 = \\begin{pmatrix}0 \\\\ -0.577+0.000j \\\\ -0.707+0.000j \\\\ 0 \\\\ 0 \\\\ 0 \\\\ -0.408+0.000j \\\\ 0\\end{pmatrix}\\quad \\lambda_1 = -1.500$"
            ],
            "text/plain": [
              "<IPython.core.display.Math object>"
            ]
          },
          "metadata": {},
          "output_type": "display_data"
        }
      ],
      "source": [
        "# First excited state\n",
        "\n",
        "def first_excited_state(H, phi0, shift = None, kmax=10000, eps=1e-8):\n",
        "    if shift is None:\n",
        "        shift = 100 #int(abs(np.amax(H)) * 10)\n",
        "    \n",
        "    phi = np.exp(1j * np.random.rand(2**N) * 2 * np.pi)\n",
        "    phi = phi - phi0.conj().T @ phi * phi0\n",
        "    phi = phi / np.linalg.norm(phi)\n",
        "\n",
        "    H = H - shift * np.eye(2**N)\n",
        "\n",
        "    k = 0\n",
        "    while np.linalg.norm(H @ phi - average(H, phi)*phi) > eps and (k < kmax):\n",
        "        phi = H @ phi\n",
        "        phi = phi - phi0.conj().T @ phi * phi0\n",
        "        phi = phi / np.linalg.norm(phi)\n",
        "        k += 1\n",
        "    print(f\"Converged in {k} iterations\")\n",
        "    H = H + shift * np.eye(2**N)\n",
        "    return phi, average(H, phi)\n",
        "\n",
        "phi1, l0 = first_excited_state(H, phi0)\n",
        "\n",
        "if display != \"None\":\n",
        "    print(\"For \" + display + \" model:\")\n",
        "    print_latex(r\"\\phi_1 = \" + as_latex_vector(phi1, replace_zeros=\"0\") + r\"\\quad \\lambda_1 = \" + f\"{np.real(l0):.3f}\"\n",
        "    + r\"\\quad \\text{and using numpy:} \\quad \\phi_1 = \" + as_latex_vector(np.linalg.eigh(H)[1][1], replace_zeros=\"0\") + r\"\\quad \\lambda_1 = \" + f\"{np.linalg.eigh(H)[0][1]:.3f}\")\n",
        "\n"
      ]
    }
  ],
  "metadata": {
    "colab": {
      "provenance": [],
      "toc_visible": true
    },
    "kernelspec": {
      "display_name": "Python 3.11.0 64-bit (microsoft store)",
      "language": "python",
      "name": "python3"
    },
    "language_info": {
      "codemirror_mode": {
        "name": "ipython",
        "version": 3
      },
      "file_extension": ".py",
      "mimetype": "text/x-python",
      "name": "python",
      "nbconvert_exporter": "python",
      "pygments_lexer": "ipython3",
      "version": "3.11.0 (main, Oct 24 2022, 18:26:48) [MSC v.1933 64 bit (AMD64)]"
    },
    "orig_nbformat": 4,
    "vscode": {
      "interpreter": {
        "hash": "50148f3f7e21c61ce3db367594dbde7641f202eb4c944671f9cb9e2c7e8f199d"
      }
    }
  },
  "nbformat": 4,
  "nbformat_minor": 0
}
