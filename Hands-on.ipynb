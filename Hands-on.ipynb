{
  "cells": [
    {
      "cell_type": "markdown",
      "metadata": {
        "id": "qx52gxibewKf"
      },
      "source": [
        "$$\\renewcommand{\\ket}[1]{\\left|{#1}\\right\\rangle}$$\n",
        "\n",
        "<div align=center>\n",
        "\n",
        "### Open me with [Google Colab](https://colab.research.google.com/) for a better experience!\n",
        "Also, collapse all the code cells to have a clear view of the notebook.\n",
        "\n",
        "</div>\n",
        "\n",
        "$$\\renewcommand{\\bra}[1]{\\left\\langle{#1}\\right|}$$"
      ]
    },
    {
      "attachments": {},
      "cell_type": "markdown",
      "metadata": {},
      "source": [
        "---\n",
        "# Initialization"
      ]
    },
    {
      "cell_type": "code",
      "execution_count": 1,
      "metadata": {},
      "outputs": [],
      "source": [
        "# Check, install and import requirements and define utility functions.\n",
        "#@title ###### Check, install and import requirements and define utility functions.\n",
        "\n",
        "import pkg_resources\n",
        "from pkg_resources import DistributionNotFound, VersionConflict\n",
        "import os\n",
        "import time\n",
        "\n",
        "dependencies = [\n",
        "  'numpy',\n",
        "  'matplotlib'\n",
        "]\n",
        "\n",
        "try:\n",
        "    pkg_resources.require(dependencies)\n",
        "except DistributionNotFound:\n",
        "    os.system(\"pip install numpy\")\n",
        "    os.system(\"pip install matplotlib\")\n",
        "\n",
        "import numpy as np\n",
        "import matplotlib.pyplot as plt\n",
        "import scipy.linalg\n",
        "\n",
        "from copy import deepcopy\n",
        "from IPython.display import display as disp, Math, Latex\n",
        "\n",
        "def as_latex_matrix(m, replace_zeros = \"0\", round=3, max_size=8):\n",
        "  \"\"\"Convert a matrix to a LaTeX matrix stored as a string.\"\"\"\n",
        "  m = np.array(m)\n",
        "\n",
        "  Hcut = m.shape[0] > max_size\n",
        "  Vcut = m.shape[1] > max_size\n",
        "  if Hcut or Vcut:\n",
        "    cut_at = int(np.ceil(max_size/2))\n",
        "    a = np.empty(\n",
        "      (min(m.shape[0], max_size), min(m.shape[1], max_size))\n",
        "    )\n",
        "\n",
        "    if Hcut and Vcut:\n",
        "      a[:cut_at, :cut_at] = m[:cut_at, :cut_at]\n",
        "      a[:cut_at, -cut_at:] = m[:cut_at, -cut_at:]\n",
        "      a[-cut_at:, :cut_at] = m[-cut_at:, :cut_at]\n",
        "      a[-cut_at:, -cut_at:] = m[-cut_at:, -cut_at:]\n",
        "    elif Hcut and not Vcut:\n",
        "      a[:cut_at, :] = m[:cut_at, :]\n",
        "      a[-cut_at:, :] = m[-cut_at:, :]\n",
        "    elif Vcut and not Hcut:\n",
        "      a[:, :cut_at] = m[:, :cut_at]\n",
        "      a[:, -cut_at:] = m[:, -cut_at:]\n",
        "    \n",
        "    m = a\n",
        "\n",
        "  def matrix_line(line, replace_zeros):\n",
        "    line_elements = []\n",
        "    for i, element in enumerate(line):\n",
        "      if Hcut and i == cut_at:\n",
        "        line_elements.append(r\"\\cdots\")\n",
        "      if (i := np.round(element, round)) != 0 or not replace_zeros:\n",
        "        line_elements.append(f\"{i}\")\n",
        "      else:\n",
        "        line_elements.append(str(replace_zeros))\n",
        "    return \" & \".join(line_elements)\n",
        "\n",
        "  if len(m.shape) == 1:\n",
        "    matrix = matrix_line(m, replace_zeros)\n",
        "  else:\n",
        "    matrix = []\n",
        "    for i, line in enumerate(m):\n",
        "      if Vcut and i == cut_at:\n",
        "        matrix.append(\"&\".join([r\"\\cdots\"]*(m.shape[1]+1)))\n",
        "      matrix.append(matrix_line(line, replace_zeros))   \n",
        "    \n",
        "    matrix = r\"\\\\ \".join(matrix)\n",
        "  \n",
        "  return r\"\\begin{pmatrix}\" + matrix + r\"\\end{pmatrix}\"\n",
        "\n",
        "def braket_notation(vector, separator=\"\", round=3):\n",
        "  \"\"\"Convert a vector to a LaTeX ket notation.\"\"\"\n",
        "  vector = np.array(vector)\n",
        "  vector = np.round(vector,round)\n",
        "\n",
        "  N = vector.shape[0]\n",
        "  n = int(np.sqrt(N))\n",
        "  \n",
        "  if vector.shape[0] == 1:\n",
        "    vec = vector[0,:]\n",
        "    state='';\n",
        "    for i in range(N):\n",
        "        if abs(vec[i])>10**(-6):\n",
        "            state=state+'+'+str(vec[i])+r' \\bra{'+format(i,'0'+str(n)+'b')+r'} '\n",
        "  else:\n",
        "    vec = vector[:,0]\n",
        "    state='';\n",
        "    for i in range(N):\n",
        "        if abs(vec[i])>10**(-6):\n",
        "            state=state+'+'+str(vec[i])+r' \\ket{'+format(i,'0'+str(n)+'b')+r'} '\n",
        "  return state\n",
        "\n",
        "def scalar(m):\n",
        "  \"\"\"Convert a 1x1 matrix to a scalar.\"\"\"\n",
        "  return m.item()\n",
        "\n",
        "def print_latex(code):\n",
        "  \"\"\"Print a LaTeX string.\"\"\"\n",
        "  disp(Math(code))"
      ]
    },
    {
      "cell_type": "code",
      "execution_count": 2,
      "metadata": {},
      "outputs": [],
      "source": [
        "# Include base code (given in subject)\n",
        "#@title ###### Include base code (given in subject)\n",
        "\n",
        "import numpy as np\n",
        "import scipy as sp\n",
        "from numpy import linalg as la\n",
        "import matplotlib.pyplot as plt\n",
        "from numpy import linalg as LA;\n",
        "from scipy import linalg as LA2;\n",
        "from numpy import random as rand\n",
        "from scipy.sparse import diags\n",
        "\n",
        "def tensorvect(a,b):\n",
        "    return(np.tensordot(a,b,axes=0).flatten())\n",
        "\n",
        "def tensorvectop(a,b):\n",
        "    return LA2.kron(a,b)\n",
        "\n",
        "def opchain(a,i,nspin):\n",
        "    if i==1:\n",
        "        return LA2.kron(a,np.identity(2**(nspin-1)))\n",
        "    else:\n",
        "        if i==nspin:\n",
        "            return LA2.kron(np.identity(2**(nspin-1)),a)\n",
        "        else:\n",
        "            return LA2.kron(LA2.kron(np.identity(2**(i-1)),a),np.identity(2**(nspin-i)))\n",
        "        \n",
        "def opchain2(a,i,b,j,nspin):\n",
        "    if i==1:\n",
        "        if j==nspin:\n",
        "            return LA2.kron(LA2.kron(a,np.identity(2**(nspin-2))),b)\n",
        "        else:\n",
        "            return LA2.kron(LA2.kron(a,np.identity(2**(j-2))),LA2.kron(b,np.identity(2**(nspin-j))))      \n",
        "    else:\n",
        "        if j==nspin:\n",
        "            return LA2.kron(LA2.kron(np.identity(2**(i-1)),a),LA2.kron(np.identity(2**(nspin-(i+1))),b))\n",
        "        else:\n",
        "            return LA2.kron(LA2.kron(LA2.kron(np.identity(2**(i-1)),a),LA2.kron(np.identity(2**(j-(i+1))),b)),np.identity(2**(nspin-j)))\n",
        "            \n",
        "def buildstate(bin):\n",
        "    v=[0. for i in range(2**len(bin))];\n",
        "    v[int(bin,2)]=1.\n",
        "    return np.array(v)\n",
        "\n",
        "\n",
        "def diracrep(psi,nspin):\n",
        "    state='';\n",
        "    for i in range(2**nspin):\n",
        "        if abs(psi[i])>10**(-6):\n",
        "            state=state+'+'+str(psi[i])+'|'+format(i,'0'+str(nspin)+'b')+'>'\n",
        "    return state\n",
        "\n",
        "def binnum(n):\n",
        "    l=['0','1'];\n",
        "    if n==1:\n",
        "        return l\n",
        "    else:\n",
        "        return ['0'+i for i in binnum(n-1)]+['1'+i for i in binnum(n-1)]\n",
        "    \n",
        "def densmat(psi,i,nspin):\n",
        "    if i>1:\n",
        "        listindex0=binnum(i-1)\n",
        "        listindex0=[j+'0' for j in listindex0]\n",
        "    else:\n",
        "        listindex0=['0']\n",
        "    if i<nspin:\n",
        "        listcomp=binnum(nspin-i)\n",
        "        listindex0=list(np.array([[j+k for k in listcomp] for j in listindex0]).flatten())\n",
        "    if i>1:\n",
        "        listindex1=binnum(i-1)\n",
        "        listindex1=[j+'1' for j in listindex1]\n",
        "    else:\n",
        "        listindex1=['1']\n",
        "    if i<nspin:\n",
        "        listcomp=binnum(nspin-i)\n",
        "        listindex1=list(np.array([[j+k for k in listcomp] for j in listindex1]).flatten())\n",
        "    rho00=sum(psi[int(j,2)]*np.conjugate(psi[int(j,2)]) for j in listindex0)\n",
        "    rho11=sum(psi[int(j,2)]*np.conjugate(psi[int(j,2)]) for j in listindex1)\n",
        "    rho01=sum(psi[int(j,2)]*np.conjugate(psi[int(listindex1[listindex0.index(j)],2)]) for j in listindex0)\n",
        "    return np.array([[rho00,rho01],[np.conjugate(rho01),rho11]])\n",
        "\n",
        "def avdensmat(psi,nspin):\n",
        "    rho=densmat(psi,1,nspin);\n",
        "    if nspin>1:\n",
        "        for i in range(2,nspin+1):\n",
        "            rho=rho+densmat(psi,i,nspin)\n",
        "    rho=rho/nspin;\n",
        "    return rho\n",
        "\n",
        "def purity(rho):\n",
        "    rho2 = np.dot(rho,rho)\n",
        "    tr = np.trace(rho2)\n",
        "    return(tr)\n",
        "\n",
        "def SvN(rho):\n",
        "    vp=np.real(LA.eigvals(rho));\n",
        "    S=0.;\n",
        "    for i in range(len(vp)):\n",
        "        if vp[i]>0.:\n",
        "            S=S+vp[i]*np.log(vp[i])\n",
        "    return -S\n",
        "\n",
        "def entangl(psi,nspin):\n",
        "    S=SvN(densmat(psi,1,nspin));\n",
        "    if nspin>1:\n",
        "        for i in range(2,nspin+1):\n",
        "            S=S+SvN(densmat(psi,i,nspin))\n",
        "    return S/nspin\n",
        "\n",
        "def Disorder(psi,nspin):\n",
        "    return SvN(avdensmat(psi,nspin))-entangl(psi,nspin)\n",
        "\n",
        "sigX=np.array([[0.,1.],[1.,0.]]);\n",
        "sigY=np.array([[0.,-1j],[1j,0.]]);\n",
        "sigZ=np.array([[1.,0.],[0.,-1.]]);\n",
        "sig1=np.array([[1.,0.],[0.,0.]]);\n",
        "id2 =np.array([[1.,0.],[0.,1.]]);\n",
        "\n",
        "NOT=sigX;\n",
        "HAD1=np.array([[1./np.sqrt(2.),1./np.sqrt(2.)],[1./np.sqrt(2.),-1./np.sqrt(2.)]]);\n",
        "CNOT=np.array([[1.,0.,0.,0.],[0.,1.,0.,0.],[0.,0.,0.,1.],[0.,0.,1.,0.]]);\n",
        "HAD2=np.array([[0.5,0.5,0.5,0.5],[0.5,-0.5,0.5,-0.5],[0.5,0.5,-0.5,-0.5],[0.5,-0.5,-0.5,0.5]]);\n",
        "SWAP=np.array([[1.,0.,0.,0.],[0.,0.,1.,0.],[0.,1.,0.,0.],[0.,0.,0.,1.]]);"
      ]
    },
    {
      "attachments": {},
      "cell_type": "markdown",
      "metadata": {
        "id": "rbnJ9xUyZ19U"
      },
      "source": [
        "---\n",
        "# Chapter 1\n",
        "\n",
        "### Constants\n",
        "We set\n",
        "$$\n",
        "\\hbar = 1\n",
        "$$"
      ]
    },
    {
      "cell_type": "code",
      "execution_count": 3,
      "metadata": {
        "cellView": "form",
        "id": "GeSfaps5Z19V"
      },
      "outputs": [],
      "source": [
        "# Defining constants\n",
        "\n",
        "hbar = 1"
      ]
    },
    {
      "cell_type": "markdown",
      "metadata": {
        "id": "JLgOccd3Z19V"
      },
      "source": [
        "### Pauli matrices\n",
        "We know the Pauli matrices:\n",
        "\n",
        "$$\n",
        "\\sigma_x = \\begin{pmatrix} 0 & 1 \\\\ 1 & 0 \\end{pmatrix}\n",
        "$$\n",
        "\n",
        "$$\n",
        "\\sigma_y = \\begin{pmatrix} 0 & -i \\\\ i & 0 \\end{pmatrix}\n",
        "$$\n",
        "\n",
        "$$\n",
        "\\sigma_z = \\begin{pmatrix} 1 & 0 \\\\ 0 & -1 \\end{pmatrix}\n",
        "$$"
      ]
    },
    {
      "cell_type": "code",
      "execution_count": 4,
      "metadata": {
        "cellView": "form",
        "id": "eOZAIQDVZ19W"
      },
      "outputs": [],
      "source": [
        "# Definition of pauli matrices\n",
        "#@title ###### Definition of pauli matrices\n",
        "\n",
        "sigma = [\n",
        "    np.matrix(\n",
        "        [[0, 1],\n",
        "         [1, 0]]\n",
        "    ),\n",
        "\n",
        "    np.matrix(\n",
        "        [[0, -1j],\n",
        "         [1j,  0]]\n",
        "    ),\n",
        "    \n",
        "    np.matrix(\n",
        "        [[1,  0],\n",
        "        [0, -1]]\n",
        "    )\n",
        "]"
      ]
    },
    {
      "cell_type": "markdown",
      "metadata": {
        "id": "rGdFWOekZ19X"
      },
      "source": [
        "### Spins\n",
        "We can deduce the spin matrices\n",
        "\n",
        "$$\n",
        "S_x = \\frac \\hbar 2 \\sigma_x = \\ket 0 \\bra 1 + \\ket 1 \\bra 0    \n",
        "$$\n",
        "\n",
        "$$\n",
        "S_y = \\frac \\hbar 2 \\sigma_y = \\ket 0 \\bra 1 - \\ket 1 \\bra 0\n",
        "$$\n",
        "\n",
        "$$\n",
        "S_z = \\frac \\hbar 2 \\sigma_z = \\ket 0 \\bra 0 - \\ket 1 \\bra 1\n",
        "$$"
      ]
    },
    {
      "cell_type": "code",
      "execution_count": 5,
      "metadata": {
        "cellView": "form",
        "id": "_j66LeNgZ19Y"
      },
      "outputs": [],
      "source": [
        "# Definition of the spin matrices\n",
        "#@title ###### Definition of the spin matrices\n",
        "\n",
        "S = [hbar/2 * sigma[i] for i in range(3)]\n",
        "\n",
        "#print(S[0], \"\\n\\n\", S[1], \"\\n\\n\", S[2])"
      ]
    },
    {
      "cell_type": "markdown",
      "metadata": {
        "id": "LdRoZ1c7Z19Z"
      },
      "source": [
        "### $h_0$\n",
        "And then, $h_0$ is defined such as:\n",
        "$$\n",
        "h_0 = - \\gamma B S_z =\n",
        "\\begin{pmatrix}\n",
        "\\frac \\omega 2 & ... & 0 \\\\\n",
        "... & \\searrow & ... \\\\\n",
        "0 & ... & \\frac \\omega 2\n",
        "\\end{pmatrix}\n",
        "$$\n",
        "\n",
        "$$\n",
        "\\rightarrow h_0 = \\begin{pmatrix} -\\omega & 0 \\\\ 0 & 0 \\end{pmatrix} D\n",
        "$$"
      ]
    },
    {
      "cell_type": "code",
      "execution_count": 6,
      "metadata": {
        "cellView": "form",
        "id": "fFuiQjBSZ19Z"
      },
      "outputs": [],
      "source": [
        "# Definition of h_0 and I\n",
        "#@title ###### Definition of $h_0$ and $I$\n",
        "\n",
        "def get_h0(w):\n",
        "    return np.matrix([\n",
        "        [-w, 0],\n",
        "        [ 0, 0]\n",
        "    ])\n",
        "\n",
        "def get_I(N):\n",
        "    return np.matrix(np.eye(N))"
      ]
    },
    {
      "cell_type": "markdown",
      "metadata": {
        "id": "MhHdjM8nZ19a"
      },
      "source": [
        "### Hamiltonian\n",
        "If we consider a system with several spins, the total hamiltonian is the sum of the hamiltonians of each spin and the interaction between them.\n",
        "\n",
        "For exemple, in the case of 2 spins:\n",
        "\n",
        "$$\n",
        "H_T = H_1 + H_2 + H_{12} = H_0 + H_{int}\n",
        "$$\n",
        "\n",
        "Where\n",
        "\n",
        "$$\n",
        "H_1 = h_0 \\otimes I_z = \\begin{pmatrix} -\\omega & 0 \\\\ 0 & 0 \\end{pmatrix} \\otimes \\begin{pmatrix} 1 & 0 \\\\ 0 & 1 \\end{pmatrix} = \\begin{pmatrix} -\\omega & 0 & 0 & 0 \\\\ 0 & -\\omega & 0 & 0 \\\\ 0 & 0 & 0 & 0 \\\\ 0 & 0 & 0 & 0 \\end{pmatrix}\n",
        "$$\n",
        "\n",
        "$$\n",
        "H_2 = I_2 \\otimes h_0 = \\begin{pmatrix} 1 & 0 \\\\ 0 & 1 \\end{pmatrix} \\otimes \\begin{pmatrix} -\\omega & 0 \\\\ 0 & 0 \\end{pmatrix} = \\begin{pmatrix} -\\omega & 0 & 0 & 0 \\\\ 0 & 0 & 0 & 0 \\\\ 0 & 0 & -\\omega & 0 \\\\ 0 & 0 & 0 & 0 \\end{pmatrix}\n",
        "$$\n",
        "\n",
        "And $H_{12}$ is defined such as:\n",
        "$$\n",
        "\\begin{array}{rl}\n",
        "H_{int} &= - \\sum_{i=1}^N \\sum_{j>i} \\vec J_{ij} \\vec S_i \\odot \\vec S_j\\\\\n",
        "&= - \\sum_{i=1}^N \\sum_{j>i} \\sum_{u \\in {x,y,z}} \\vec J_{ij}^u \\vec S_i^u\\vec S_j^u\\\\\n",
        "\\end{array}\n",
        "$$"
      ]
    },
    {
      "cell_type": "code",
      "execution_count": 7,
      "metadata": {
        "cellView": "form",
        "id": "hXCArmbtZ19c"
      },
      "outputs": [],
      "source": [
        "# Definition of H_int\n",
        "#@title ###### Definition of H_int\n",
        "\n",
        "def get_H_int(J, S, verbose = False):\n",
        "\n",
        "    # Getting the number of spins\n",
        "    _, N, _ = J.shape\n",
        "\n",
        "    # Initalizing the Hamiltonian with a matrixc of size*size filled of 0\n",
        "    H = np.matrix(np.zeros((2**N, 2**N), dtype=complex))\n",
        "\n",
        "    # Sums\n",
        "    for i in range(1,N): # 1 to N-1\n",
        "        for j in range(i+1, N+1): # i+1 to N\n",
        "            for u in range(3): # 0 to 2\n",
        "                H -= J[u,i-1,j-1] * opchain2(S[u], i, S[u], j, N) # cf. eq 1.6\n",
        "\n",
        "                # Debug\n",
        "                if verbose:\n",
        "                    print(\"\\n------------------------------\\n\")\n",
        "                    print(\"i j u J[u,i,j]\")\n",
        "                    print(i,j, [\"x\",\"y\",\"z\"][u], J[u,i,j])\n",
        "                    print(\" \")\n",
        "                    print(J[u,i,j] * opchain2(S[u], i+1, S[u], j+1, N).astype(float))\n",
        "    \n",
        "    return H"
      ]
    },
    {
      "attachments": {},
      "cell_type": "markdown",
      "metadata": {
        "id": "l_FRuxOHZ19c"
      },
      "source": [
        "### Models\n",
        "\n",
        "$$\n",
        "\\forall i,j,u \\in \\{1,...,N\\} \\quad \\text{and} \\quad \\forall u \\in \\{x,y,z\\}\n",
        "$$\n",
        "\n",
        "\n",
        "\n",
        "<div align=center>\n",
        "\n",
        "#### Ferromagnetic\n",
        "\n",
        "$$\n",
        "J_{ij, closed}^u \\begin{cases}\n",
        "    \\geq 0 & \\text{if } j = i+1\\\\\n",
        "    = 0 & \\text{otherwise}\n",
        "\\end{cases}\n",
        "$$\n",
        "\n",
        "#### Antiferromagnetic\n",
        "\n",
        "$$\n",
        "J_{ij, closed}^u \\begin{cases}\n",
        "    \\leq 0 & \\text{if } j = i+1\\\\\n",
        "    = 0 & \\text{otherwise}\n",
        "\\end{cases}\n",
        "$$\n",
        "\n",
        "#### Open Ising model\n",
        "\n",
        "$$\n",
        "J_{ij, open}^u = \\begin{cases}\n",
        "    J\\delta_{i,j+1} & \\text{if } u = z\\\\\n",
        "    0 & \\text{if } u = \\{x,y\\} \\end{cases}\n",
        "$$\n",
        "\n",
        "#### Closed Ising model\n",
        "\n",
        "$$\n",
        "J_{ij, closed}^u = \\begin{cases}\n",
        "    J\\delta_{i,j+1} + J\\delta_{i,1}\\delta_{j,N} & \\text{if } u = z\\\\\n",
        "    0 & \\text{otherwise}\\end{cases}  \n",
        "$$\n",
        "\n",
        "#### Heisenberg XXX\n",
        "\n",
        "$$\n",
        "J_{i,j}^u = J_x \\delta_{i,j+1}\n",
        "$$\n",
        "\n",
        "#### Heisenberg XXZ\n",
        "\n",
        "$$\n",
        "\\forall i,j \\in \\{1,...,N\\} \\quad J_{i,j}^u = \\begin{cases}\n",
        "    J_x\\delta_{i,j+1} & \\text{if } u \\in \\{x,y\\}\\\\\n",
        "    J_z\\delta_{i,j+1} & \\text{if } u = z\n",
        "\\end{cases}\n",
        "$$\n",
        "\n",
        "#### Heisenberg XYZ\n",
        "\n",
        "$$\n",
        "\\forall i,j \\in \\{1,...,N\\} \\quad J_{i,j}^u = \\begin{cases}\n",
        "    J_x\\delta_{i,j+1} & \\text{if } u = x\\\\\n",
        "    J_y\\delta_{i,j+1} & \\text{if } u = y\\\\\n",
        "    J_z\\delta_{i,j+1} & \\text{if } u = z\n",
        "\\end{cases}\n",
        "$$\n",
        "\n",
        "</div>"
      ]
    },
    {
      "cell_type": "code",
      "execution_count": 8,
      "metadata": {},
      "outputs": [],
      "source": [
        "# Definition of the models\n",
        "\n",
        "def to_matrix_list(J):\n",
        "    return J\n",
        "    # res = []\n",
        "    # for i in range(len(J)):\n",
        "    #     res.append(np.matrix(J[i]))\n",
        "    # return res\n",
        "\n",
        "# Ferromatic and antiferromatic\n",
        "def ferromagnetic(N):\n",
        "    i,j = np.meshgrid(np.arange(N), np.arange(N))\n",
        "    Jferro = (np.random.rand(3*N*N).reshape((3,N,N)) + 1) * (j+1 == i)\n",
        "    return to_matrix_list(Jferro)\n",
        "\n",
        "def antiferromagnetic(N):\n",
        "    i,j = np.meshgrid(np.arange(N), np.arange(N))\n",
        "    Jantiferro = (np.random.rand(3*N*N).reshape((3,N,N)) + 1) * (j+1 == i) * (-1)**(i+j)\n",
        "    return to_matrix_list(Jantiferro)\n",
        "\n",
        "def openIsingX(N, J_value=None):\n",
        "    if J_value is None:\n",
        "        J_value = np.random.rand(N,N)*2-1\n",
        "    i,j = np.meshgrid(np.arange(N), np.arange(N))\n",
        "    Jx = np.zeros((3,N,N))\n",
        "    Jx[0,:,:] = J_value * (j+1 == i) # Ising X model -> J = J on direction x and when j = i+1 \n",
        "    return to_matrix_list(Jx)\n",
        "\n",
        "def openIsingY(N, J_value=None):\n",
        "    if J_value is None:\n",
        "        J_value = np.random.rand(N,N)*2-1\n",
        "    i,j = np.meshgrid(np.arange(N), np.arange(N))\n",
        "    Jy = np.zeros((3,N,N))\n",
        "    Jy[1,:,:] = J_value * (j+1 == i) # Ising Y model -> J = J on direction y and when j = i+1 \n",
        "    return to_matrix_list(Jy)\n",
        "\n",
        "def openIsingZ(N, J_value=None):\n",
        "    if J_value is None:\n",
        "        J_value = np.random.rand(N,N)*2-1\n",
        "    i,j = np.meshgrid(np.arange(N), np.arange(N))\n",
        "    Jz = np.zeros((3,N,N))\n",
        "    Jz[2,:,:] = J_value * (j+1 == i) # Ising Z model -> J = J on direction z and when j = i+1 \n",
        "    return to_matrix_list(Jz)\n",
        "\n",
        "# Closed Ising model\n",
        "def closedIsingX(N, J_value=None):\n",
        "    if J_value is None:\n",
        "        J_value = np.random.rand(N,N)*2-1\n",
        "    i,j = np.meshgrid(np.arange(N), np.arange(N))\n",
        "    JxC = np.zeros((3,N,N))\n",
        "    JxC[0,:,:] = (j+1 == i) # Ising X model -> J = J on direction x and when j = i+1 \n",
        "    JxC[0,0,-1] = 1\n",
        "    JxC[0,:,:] *= J_value\n",
        "    return to_matrix_list(JxC)\n",
        "\n",
        "def closedIsingY(N, J_value=None):\n",
        "    if J_value is None:\n",
        "        J_value = np.random.rand(N,N)*2-1\n",
        "    i,j = np.meshgrid(np.arange(N), np.arange(N))\n",
        "    JyC = np.zeros((3,N,N))\n",
        "    JyC[1,:,:] = (j+1 == i) # Ising Y model -> J = J on direction y and when j = i+1 \n",
        "    JyC[1,0,-1] = 1\n",
        "    JyC[1,:,:] *= J_value\n",
        "    return to_matrix_list(JyC)\n",
        "\n",
        "def closedIsingZ(N, J_value=None):\n",
        "    if J_value is None:\n",
        "        J_value = np.random.rand(N,N)*2-1\n",
        "    i,j = np.meshgrid(np.arange(N), np.arange(N))\n",
        "    JzC = np.zeros((3,N,N))\n",
        "    JzC[2,:,:] = (j+1 == i) # Ising Z model -> J = J on direction z and when j = i+1 \n",
        "    JzC[2,0,-1] = 1\n",
        "    JzC[2,:,:] *= J_value\n",
        "    return to_matrix_list(JzC)\n",
        "\n",
        "def HeisenbergXXX(N, Jx_value=None):\n",
        "    if Jx_value is None:\n",
        "        Jx_value = np.random.rand(N,N)*2-1\n",
        "    i,j = np.meshgrid(np.arange(N), np.arange(N))\n",
        "    Jhxxx = np.ones((3,N,N))\n",
        "    for dimension in range(3):\n",
        "        Jhxxx[dimension,:,:] *= (j+1 == i)\n",
        "        Jhxxx[dimension,:,:] *= Jx_value\n",
        "    return to_matrix_list(Jhxxx)\n",
        "\n",
        "def HeisenbergXXZ(N, Jx_value=None, Jz_value=None):\n",
        "    if Jx_value is None:\n",
        "        Jx_value = np.random.rand(N,N)*2-1\n",
        "    if Jz_value is None:\n",
        "        Jz_value = np.random.rand(N,N)*2-1\n",
        "    i,j = np.meshgrid(np.arange(N), np.arange(N))\n",
        "    Jhxxz = np.ones((3,N,N))\n",
        "    for dimension in range(3):\n",
        "        Jhxxz[dimension,:,:] *= (j+1 == i)\n",
        "    Jhxxz[0,:,:] *= Jx_value\n",
        "    Jhxxz[1,:,:] *= Jx_value\n",
        "    Jhxxz[2,:,:] *= Jz_value\n",
        "    return to_matrix_list(Jhxxz)\n",
        "\n",
        "def HeisenbergXYZ(N, Jx_value=None, Jy_value=None, Jz_value=None):\n",
        "    if Jx_value is None:\n",
        "        Jx_value = np.random.rand(N,N)*2-1\n",
        "    if Jy_value is None:\n",
        "        Jy_value = np.random.rand(N,N)*2-1\n",
        "    if Jz_value is None:\n",
        "        Jz_value = np.random.rand(N,N)*2-1\n",
        "    i,j = np.meshgrid(np.arange(N), np.arange(N))\n",
        "    Jhxyz = np.ones((3,N,N))\n",
        "    for dimension in range(3):\n",
        "        Jhxyz[dimension,:,:] *= (j+1 == i)\n",
        "    Jhxyz[0,:,:] *= Jx_value\n",
        "    Jhxyz[1,:,:] *= Jy_value\n",
        "    Jhxyz[2,:,:] *= Jz_value\n",
        "    return to_matrix_list(Jhxyz)"
      ]
    },
    {
      "cell_type": "code",
      "execution_count": 9,
      "metadata": {},
      "outputs": [],
      "source": [
        "# Model class\n",
        "\n",
        "class Model:\n",
        "    all = {}\n",
        "    def __init__(self, name, N, w, J):\n",
        "        self.name = name\n",
        "        self.N = N\n",
        "        self.w = w\n",
        "        self.J = J\n",
        "        self.all[name] = self"
      ]
    },
    {
      "cell_type": "markdown",
      "metadata": {
        "id": "hXzn49WKZ19b"
      },
      "source": [
        "---\n",
        "# Chapter 2"
      ]
    },
    {
      "attachments": {},
      "cell_type": "markdown",
      "metadata": {
        "id": "IgwUIXbxZ19b"
      },
      "source": [
        "## 2.1 - Studied models\n",
        "\n",
        "In this part, we will consider the models:\n",
        "1. Open Ising Z spin chain with $N=8$, $J=1$ and $\\omega=0.5$\n",
        "2. Closed Izing Z spin chain with $N=8$, $J=1$ and $\\omega=0.5$\n",
        "3. Open Ising X spin chain with $N=8$, $J=1$ and $\\omega=0.5$\n",
        "4. Open HeisenbergXXX spin chain with $N=8$, $J_x=1$ and $\\omega=0.5$\n",
        "5. Open HeisenbergXYZ spin chain with $N=8$, $J_x=0.5$, $J_y=1$, $J_z=1.5$ and $\\omega=0.5$\n",
        "6. Random Open Ising X spin chain with $N=8$, $J=\\text{random}(-1, 1)$ and $\\omega=\\text{random}(0, 0.5)$\n",
        "7. Spin glass with $N=8$, $J=\\text{random}(-1, 1)$ and $\\omega=\\text{random}(0, 0.5)$\n",
        "\n",
        "> **TP question:** Build with python the quantum Hamiltonian $H$ as a $2^N × 2^N$ array for each model. In the final report, give all the Hamiltonians for the cases N = 3 and N = 8\n"
      ]
    },
    {
      "cell_type": "code",
      "execution_count": 10,
      "metadata": {
        "cellView": "form",
        "colab": {
          "base_uri": "https://localhost:8080/"
        },
        "id": "xmQ5WKEBZ19d",
        "outputId": "5c28a4c0-20be-4093-9fd4-d6a2e37cf0d8"
      },
      "outputs": [
        {
          "data": {
            "text/latex": [
              "$\\displaystyle \\underline{\\textbf{For Open Ising Z model}}$"
            ],
            "text/plain": [
              "<IPython.core.display.Math object>"
            ]
          },
          "metadata": {},
          "output_type": "display_data"
        },
        {
          "data": {
            "text/latex": [
              "$\\displaystyle J_x = \\begin{pmatrix}0 & 0 & 0 & 0 & 0 & 0 & 0 & 0\\\\ 0 & 0 & 0 & 0 & 0 & 0 & 0 & 0\\\\ 0 & 0 & 0 & 0 & 0 & 0 & 0 & 0\\\\ 0 & 0 & 0 & 0 & 0 & 0 & 0 & 0\\\\ 0 & 0 & 0 & 0 & 0 & 0 & 0 & 0\\\\ 0 & 0 & 0 & 0 & 0 & 0 & 0 & 0\\\\ 0 & 0 & 0 & 0 & 0 & 0 & 0 & 0\\\\ 0 & 0 & 0 & 0 & 0 & 0 & 0 & 0\\end{pmatrix} \\quad J_y = \\begin{pmatrix}0 & 0 & 0 & 0 & 0 & 0 & 0 & 0\\\\ 0 & 0 & 0 & 0 & 0 & 0 & 0 & 0\\\\ 0 & 0 & 0 & 0 & 0 & 0 & 0 & 0\\\\ 0 & 0 & 0 & 0 & 0 & 0 & 0 & 0\\\\ 0 & 0 & 0 & 0 & 0 & 0 & 0 & 0\\\\ 0 & 0 & 0 & 0 & 0 & 0 & 0 & 0\\\\ 0 & 0 & 0 & 0 & 0 & 0 & 0 & 0\\\\ 0 & 0 & 0 & 0 & 0 & 0 & 0 & 0\\end{pmatrix} \\quad J_z = \\begin{pmatrix}0 & 1.0 & 0 & 0 & 0 & 0 & 0 & 0\\\\ 0 & 0 & 1.0 & 0 & 0 & 0 & 0 & 0\\\\ 0 & 0 & 0 & 1.0 & 0 & 0 & 0 & 0\\\\ 0 & 0 & 0 & 0 & 1.0 & 0 & 0 & 0\\\\ 0 & 0 & 0 & 0 & 0 & 1.0 & 0 & 0\\\\ 0 & 0 & 0 & 0 & 0 & 0 & 1.0 & 0\\\\ 0 & 0 & 0 & 0 & 0 & 0 & 0 & 1.0\\\\ 0 & 0 & 0 & 0 & 0 & 0 & 0 & 0\\end{pmatrix}$"
            ],
            "text/plain": [
              "<IPython.core.display.Math object>"
            ]
          },
          "metadata": {},
          "output_type": "display_data"
        },
        {
          "data": {
            "text/latex": [
              "$\\displaystyle \\underline{\\textbf{For Closed Ising Z model}}$"
            ],
            "text/plain": [
              "<IPython.core.display.Math object>"
            ]
          },
          "metadata": {},
          "output_type": "display_data"
        },
        {
          "data": {
            "text/latex": [
              "$\\displaystyle J_x = \\begin{pmatrix}0 & 0 & 0 & 0 & 0 & 0 & 0 & 0\\\\ 0 & 0 & 0 & 0 & 0 & 0 & 0 & 0\\\\ 0 & 0 & 0 & 0 & 0 & 0 & 0 & 0\\\\ 0 & 0 & 0 & 0 & 0 & 0 & 0 & 0\\\\ 0 & 0 & 0 & 0 & 0 & 0 & 0 & 0\\\\ 0 & 0 & 0 & 0 & 0 & 0 & 0 & 0\\\\ 0 & 0 & 0 & 0 & 0 & 0 & 0 & 0\\\\ 0 & 0 & 0 & 0 & 0 & 0 & 0 & 0\\end{pmatrix} \\quad J_y = \\begin{pmatrix}0 & 0 & 0 & 0 & 0 & 0 & 0 & 0\\\\ 0 & 0 & 0 & 0 & 0 & 0 & 0 & 0\\\\ 0 & 0 & 0 & 0 & 0 & 0 & 0 & 0\\\\ 0 & 0 & 0 & 0 & 0 & 0 & 0 & 0\\\\ 0 & 0 & 0 & 0 & 0 & 0 & 0 & 0\\\\ 0 & 0 & 0 & 0 & 0 & 0 & 0 & 0\\\\ 0 & 0 & 0 & 0 & 0 & 0 & 0 & 0\\\\ 0 & 0 & 0 & 0 & 0 & 0 & 0 & 0\\end{pmatrix} \\quad J_z = \\begin{pmatrix}0 & 1.0 & 0 & 0 & 0 & 0 & 0 & 1.0\\\\ 0 & 0 & 1.0 & 0 & 0 & 0 & 0 & 0\\\\ 0 & 0 & 0 & 1.0 & 0 & 0 & 0 & 0\\\\ 0 & 0 & 0 & 0 & 1.0 & 0 & 0 & 0\\\\ 0 & 0 & 0 & 0 & 0 & 1.0 & 0 & 0\\\\ 0 & 0 & 0 & 0 & 0 & 0 & 1.0 & 0\\\\ 0 & 0 & 0 & 0 & 0 & 0 & 0 & 1.0\\\\ 0 & 0 & 0 & 0 & 0 & 0 & 0 & 0\\end{pmatrix}$"
            ],
            "text/plain": [
              "<IPython.core.display.Math object>"
            ]
          },
          "metadata": {},
          "output_type": "display_data"
        },
        {
          "data": {
            "text/latex": [
              "$\\displaystyle \\underline{\\textbf{For Open Ising X model}}$"
            ],
            "text/plain": [
              "<IPython.core.display.Math object>"
            ]
          },
          "metadata": {},
          "output_type": "display_data"
        },
        {
          "data": {
            "text/latex": [
              "$\\displaystyle J_x = \\begin{pmatrix}0 & 1.0 & 0 & 0 & 0 & 0 & 0 & 0\\\\ 0 & 0 & 1.0 & 0 & 0 & 0 & 0 & 0\\\\ 0 & 0 & 0 & 1.0 & 0 & 0 & 0 & 0\\\\ 0 & 0 & 0 & 0 & 1.0 & 0 & 0 & 0\\\\ 0 & 0 & 0 & 0 & 0 & 1.0 & 0 & 0\\\\ 0 & 0 & 0 & 0 & 0 & 0 & 1.0 & 0\\\\ 0 & 0 & 0 & 0 & 0 & 0 & 0 & 1.0\\\\ 0 & 0 & 0 & 0 & 0 & 0 & 0 & 0\\end{pmatrix} \\quad J_y = \\begin{pmatrix}0 & 0 & 0 & 0 & 0 & 0 & 0 & 0\\\\ 0 & 0 & 0 & 0 & 0 & 0 & 0 & 0\\\\ 0 & 0 & 0 & 0 & 0 & 0 & 0 & 0\\\\ 0 & 0 & 0 & 0 & 0 & 0 & 0 & 0\\\\ 0 & 0 & 0 & 0 & 0 & 0 & 0 & 0\\\\ 0 & 0 & 0 & 0 & 0 & 0 & 0 & 0\\\\ 0 & 0 & 0 & 0 & 0 & 0 & 0 & 0\\\\ 0 & 0 & 0 & 0 & 0 & 0 & 0 & 0\\end{pmatrix} \\quad J_z = \\begin{pmatrix}0 & 0 & 0 & 0 & 0 & 0 & 0 & 0\\\\ 0 & 0 & 0 & 0 & 0 & 0 & 0 & 0\\\\ 0 & 0 & 0 & 0 & 0 & 0 & 0 & 0\\\\ 0 & 0 & 0 & 0 & 0 & 0 & 0 & 0\\\\ 0 & 0 & 0 & 0 & 0 & 0 & 0 & 0\\\\ 0 & 0 & 0 & 0 & 0 & 0 & 0 & 0\\\\ 0 & 0 & 0 & 0 & 0 & 0 & 0 & 0\\\\ 0 & 0 & 0 & 0 & 0 & 0 & 0 & 0\\end{pmatrix}$"
            ],
            "text/plain": [
              "<IPython.core.display.Math object>"
            ]
          },
          "metadata": {},
          "output_type": "display_data"
        },
        {
          "data": {
            "text/latex": [
              "$\\displaystyle \\underline{\\textbf{For Open Heisenberg XXX model}}$"
            ],
            "text/plain": [
              "<IPython.core.display.Math object>"
            ]
          },
          "metadata": {},
          "output_type": "display_data"
        },
        {
          "data": {
            "text/latex": [
              "$\\displaystyle J_x = \\begin{pmatrix}0 & 1.0 & 0 & 0 & 0 & 0 & 0 & 0\\\\ 0 & 0 & 1.0 & 0 & 0 & 0 & 0 & 0\\\\ 0 & 0 & 0 & 1.0 & 0 & 0 & 0 & 0\\\\ 0 & 0 & 0 & 0 & 1.0 & 0 & 0 & 0\\\\ 0 & 0 & 0 & 0 & 0 & 1.0 & 0 & 0\\\\ 0 & 0 & 0 & 0 & 0 & 0 & 1.0 & 0\\\\ 0 & 0 & 0 & 0 & 0 & 0 & 0 & 1.0\\\\ 0 & 0 & 0 & 0 & 0 & 0 & 0 & 0\\end{pmatrix} \\quad J_y = \\begin{pmatrix}0 & 1.0 & 0 & 0 & 0 & 0 & 0 & 0\\\\ 0 & 0 & 1.0 & 0 & 0 & 0 & 0 & 0\\\\ 0 & 0 & 0 & 1.0 & 0 & 0 & 0 & 0\\\\ 0 & 0 & 0 & 0 & 1.0 & 0 & 0 & 0\\\\ 0 & 0 & 0 & 0 & 0 & 1.0 & 0 & 0\\\\ 0 & 0 & 0 & 0 & 0 & 0 & 1.0 & 0\\\\ 0 & 0 & 0 & 0 & 0 & 0 & 0 & 1.0\\\\ 0 & 0 & 0 & 0 & 0 & 0 & 0 & 0\\end{pmatrix} \\quad J_z = \\begin{pmatrix}0 & 1.0 & 0 & 0 & 0 & 0 & 0 & 0\\\\ 0 & 0 & 1.0 & 0 & 0 & 0 & 0 & 0\\\\ 0 & 0 & 0 & 1.0 & 0 & 0 & 0 & 0\\\\ 0 & 0 & 0 & 0 & 1.0 & 0 & 0 & 0\\\\ 0 & 0 & 0 & 0 & 0 & 1.0 & 0 & 0\\\\ 0 & 0 & 0 & 0 & 0 & 0 & 1.0 & 0\\\\ 0 & 0 & 0 & 0 & 0 & 0 & 0 & 1.0\\\\ 0 & 0 & 0 & 0 & 0 & 0 & 0 & 0\\end{pmatrix}$"
            ],
            "text/plain": [
              "<IPython.core.display.Math object>"
            ]
          },
          "metadata": {},
          "output_type": "display_data"
        },
        {
          "data": {
            "text/latex": [
              "$\\displaystyle \\underline{\\textbf{For Open Heisenberg XYZ model}}$"
            ],
            "text/plain": [
              "<IPython.core.display.Math object>"
            ]
          },
          "metadata": {},
          "output_type": "display_data"
        },
        {
          "data": {
            "text/latex": [
              "$\\displaystyle J_x = \\begin{pmatrix}0 & 0.5 & 0 & 0 & 0 & 0 & 0 & 0\\\\ 0 & 0 & 0.5 & 0 & 0 & 0 & 0 & 0\\\\ 0 & 0 & 0 & 0.5 & 0 & 0 & 0 & 0\\\\ 0 & 0 & 0 & 0 & 0.5 & 0 & 0 & 0\\\\ 0 & 0 & 0 & 0 & 0 & 0.5 & 0 & 0\\\\ 0 & 0 & 0 & 0 & 0 & 0 & 0.5 & 0\\\\ 0 & 0 & 0 & 0 & 0 & 0 & 0 & 0.5\\\\ 0 & 0 & 0 & 0 & 0 & 0 & 0 & 0\\end{pmatrix} \\quad J_y = \\begin{pmatrix}0 & 1.0 & 0 & 0 & 0 & 0 & 0 & 0\\\\ 0 & 0 & 1.0 & 0 & 0 & 0 & 0 & 0\\\\ 0 & 0 & 0 & 1.0 & 0 & 0 & 0 & 0\\\\ 0 & 0 & 0 & 0 & 1.0 & 0 & 0 & 0\\\\ 0 & 0 & 0 & 0 & 0 & 1.0 & 0 & 0\\\\ 0 & 0 & 0 & 0 & 0 & 0 & 1.0 & 0\\\\ 0 & 0 & 0 & 0 & 0 & 0 & 0 & 1.0\\\\ 0 & 0 & 0 & 0 & 0 & 0 & 0 & 0\\end{pmatrix} \\quad J_z = \\begin{pmatrix}0 & 1.5 & 0 & 0 & 0 & 0 & 0 & 0\\\\ 0 & 0 & 1.5 & 0 & 0 & 0 & 0 & 0\\\\ 0 & 0 & 0 & 1.5 & 0 & 0 & 0 & 0\\\\ 0 & 0 & 0 & 0 & 1.5 & 0 & 0 & 0\\\\ 0 & 0 & 0 & 0 & 0 & 1.5 & 0 & 0\\\\ 0 & 0 & 0 & 0 & 0 & 0 & 1.5 & 0\\\\ 0 & 0 & 0 & 0 & 0 & 0 & 0 & 1.5\\\\ 0 & 0 & 0 & 0 & 0 & 0 & 0 & 0\\end{pmatrix}$"
            ],
            "text/plain": [
              "<IPython.core.display.Math object>"
            ]
          },
          "metadata": {},
          "output_type": "display_data"
        },
        {
          "data": {
            "text/latex": [
              "$\\displaystyle \\underline{\\textbf{For Random Open Ising X model}}$"
            ],
            "text/plain": [
              "<IPython.core.display.Math object>"
            ]
          },
          "metadata": {},
          "output_type": "display_data"
        },
        {
          "data": {
            "text/latex": [
              "$\\displaystyle J_x = \\begin{pmatrix}0 & 0.885 & 0 & 0 & 0 & 0 & 0 & 0\\\\ 0 & 0 & -0.085 & 0 & 0 & 0 & 0 & 0\\\\ 0 & 0 & 0 & -0.296 & 0 & 0 & 0 & 0\\\\ 0 & 0 & 0 & 0 & 0.418 & 0 & 0 & 0\\\\ 0 & 0 & 0 & 0 & 0 & -0.209 & 0 & 0\\\\ 0 & 0 & 0 & 0 & 0 & 0 & -0.435 & 0\\\\ 0 & 0 & 0 & 0 & 0 & 0 & 0 & -0.004\\\\ 0 & 0 & 0 & 0 & 0 & 0 & 0 & 0\\end{pmatrix} \\quad J_y = \\begin{pmatrix}0 & 0 & 0 & 0 & 0 & 0 & 0 & 0\\\\ 0 & 0 & 0 & 0 & 0 & 0 & 0 & 0\\\\ 0 & 0 & 0 & 0 & 0 & 0 & 0 & 0\\\\ 0 & 0 & 0 & 0 & 0 & 0 & 0 & 0\\\\ 0 & 0 & 0 & 0 & 0 & 0 & 0 & 0\\\\ 0 & 0 & 0 & 0 & 0 & 0 & 0 & 0\\\\ 0 & 0 & 0 & 0 & 0 & 0 & 0 & 0\\\\ 0 & 0 & 0 & 0 & 0 & 0 & 0 & 0\\end{pmatrix} \\quad J_z = \\begin{pmatrix}0 & 0 & 0 & 0 & 0 & 0 & 0 & 0\\\\ 0 & 0 & 0 & 0 & 0 & 0 & 0 & 0\\\\ 0 & 0 & 0 & 0 & 0 & 0 & 0 & 0\\\\ 0 & 0 & 0 & 0 & 0 & 0 & 0 & 0\\\\ 0 & 0 & 0 & 0 & 0 & 0 & 0 & 0\\\\ 0 & 0 & 0 & 0 & 0 & 0 & 0 & 0\\\\ 0 & 0 & 0 & 0 & 0 & 0 & 0 & 0\\\\ 0 & 0 & 0 & 0 & 0 & 0 & 0 & 0\\end{pmatrix}$"
            ],
            "text/plain": [
              "<IPython.core.display.Math object>"
            ]
          },
          "metadata": {},
          "output_type": "display_data"
        },
        {
          "data": {
            "text/latex": [
              "$\\displaystyle \\underline{\\textbf{For Spin Glass model}}$"
            ],
            "text/plain": [
              "<IPython.core.display.Math object>"
            ]
          },
          "metadata": {},
          "output_type": "display_data"
        },
        {
          "data": {
            "text/latex": [
              "$\\displaystyle J_x = \\begin{pmatrix}0.975 & -0.423 & 0.656 & -0.611 & -0.798 & -0.468 & -0.311 & -0.384\\\\ -0.783 & 0.564 & 0.714 & -0.707 & 0.666 & 0.001 & 0.057 & -0.718\\\\ 0.413 & 0.773 & -0.255 & 0.605 & -0.222 & 0.197 & -0.9 & -0.211\\\\ 0.084 & -0.271 & -0.69 & 0.035 & -0.621 & 0.963 & 0.132 & 0.279\\\\ -0.454 & -0.581 & 0.215 & -0.175 & -0.422 & -0.485 & 0.39 & 0.611\\\\ 0.404 & 0.378 & -0.7 & -0.763 & 0.274 & -0.556 & 0.396 & 0.838\\\\ 0.067 & 0.006 & -0.926 & -0.147 & -0.476 & -0.951 & -0.265 & -0.832\\\\ -0.026 & 0.145 & 0.991 & -0.39 & 0.609 & 0.631 & 0.002 & -0.343\\end{pmatrix} \\quad J_y = \\begin{pmatrix}-0.715 & 0.627 & -0.322 & 0.127 & 0.932 & -0.839 & 0.936 & -0.634\\\\ -0.019 & 0.293 & -0.831 & -0.333 & -0.975 & -0.514 & -0.22 & -0.767\\\\ 0.46 & -0.304 & -0.905 & 0.258 & -0.815 & 0.427 & -0.334 & -0.551\\\\ -0.53 & -0.49 & 0.828 & 0.635 & 0.28 & 0.535 & 0.12 & -0.473\\\\ 0.161 & -0.046 & -0.651 & -0.842 & 0.294 & -0.389 & 0.682 & 0.363\\\\ -0.248 & 0.343 & -0.407 & 0.401 & -0.04 & 0.802 & -0.513 & 0.901\\\\ 0.472 & 0.231 & -0.978 & 0.416 & 0.048 & -0.468 & 0.586 & -0.013\\\\ 0.768 & -0.836 & 0.054 & -0.447 & 0.785 & 0.2 & -0.842 & 0.012\\end{pmatrix} \\quad J_z = \\begin{pmatrix}-0.094 & 0.869 & 0.526 & -0.57 & -0.813 & 0.467 & -0.847 & 0.189\\\\ 0.421 & 0.674 & 0.429 & -0.257 & 0.101 & -0.44 & -0.809 & -0.793\\\\ -0.12 & -0.153 & -0.535 & 0.055 & -0.061 & -0.074 & -0.685 & 0.617\\\\ 0.469 & 0.396 & 0.986 & -0.99 & 0.741 & -0.592 & -0.471 & -0.879\\\\ -0.914 & -0.56 & -0.056 & 0.948 & -0.626 & 0.464 & -0.525 & 0.756\\\\ -0.016 & -0.959 & -0.858 & -0.532 & -0.878 & 0.879 & 0.524 & -0.548\\\\ 0.923 & -0.026 & 0.004 & 0.061 & -0.408 & 0.413 & 0.737 & -0.865\\\\ -0.013 & 0.798 & 0.378 & 0.852 & 0.24 & 0.834 & -0.359 & 0.145\\end{pmatrix}$"
            ],
            "text/plain": [
              "<IPython.core.display.Math object>"
            ]
          },
          "metadata": {},
          "output_type": "display_data"
        }
      ],
      "source": [
        "#Computing models\n",
        "\n",
        "OIz   = Model(\"Open Ising Z\",        8, 0.5, openIsingZ(8, 1))\n",
        "CIz   = Model(\"Closed Ising Z\",      8, 0.5, closedIsingZ(8, 1))\n",
        "OIx   = Model(\"Open Ising X\",        8, 0.5, openIsingX(8, 1))\n",
        "OHxxx = Model(\"Open Heisenberg XXX\", 8, 0.5, HeisenbergXXX(8, 1))\n",
        "OHxyz = Model(\"Open Heisenberg XYZ\", 8, 0.5, HeisenbergXYZ(8, 0.5, 1, 1.5))\n",
        "ROIx  = Model(\"Random Open Ising X\", 8, 0.5, openIsingX(8))\n",
        "Sg    = Model(\"Spin Glass\",          8, 0.5, np.random.rand(3,8,8)*2-1)\n",
        "\n",
        "for model in Model.all.values():\n",
        "    print_latex(r\"\\underline{\\textbf{For \" + model.name + r\" model}}\")\n",
        "    print_latex(r\"J_x = \" + as_latex_matrix(model.J[0]) + r\" \\quad \"\n",
        "              + r\"J_y = \" + as_latex_matrix(model.J[1]) + r\" \\quad \"\n",
        "              + r\"J_z = \" + as_latex_matrix(model.J[2])\n",
        "    )\n"
      ]
    },
    {
      "cell_type": "markdown",
      "metadata": {
        "id": "cs4DrZGbZ19e"
      },
      "source": [
        "### Free Hamiltonian\n",
        "We remember that the free hamiltonians for the i-st spin is:\n",
        "\n",
        "$$\n",
        "H_i = I_1 \\otimes ... \\otimes I_{i-1} \\otimes h_0 \\otimes I_{i+1} \\otimes... \\otimes I_N\n",
        "$$\n",
        "$$\\rightarrow h_0 \\text{ is at position } i$$"
      ]
    },
    {
      "cell_type": "code",
      "execution_count": 11,
      "metadata": {
        "cellView": "form",
        "colab": {
          "base_uri": "https://localhost:8080/"
        },
        "id": "GhRpyRzkZ19f",
        "outputId": "246d53ef-e4e3-4938-a4fd-a93b9f8acfae"
      },
      "outputs": [
        {
          "data": {
            "text/latex": [
              "$\\displaystyle \\underline{\\textbf{For Open Ising Z model}}$"
            ],
            "text/plain": [
              "<IPython.core.display.Math object>"
            ]
          },
          "metadata": {},
          "output_type": "display_data"
        },
        {
          "data": {
            "text/latex": [
              "$\\displaystyle H_0 = \\begin{pmatrix}-4.0 & 0 & 0 & 0 & \\cdots & 0 & 0 & 0 & 0\\\\ 0 & -3.5 & 0 & 0 & \\cdots & 0 & 0 & 0 & 0\\\\ 0 & 0 & -3.5 & 0 & \\cdots & 0 & 0 & 0 & 0\\\\ 0 & 0 & 0 & -3.0 & \\cdots & 0 & 0 & 0 & 0\\\\ \\cdots&\\cdots&\\cdots&\\cdots&\\cdots&\\cdots&\\cdots&\\cdots&\\cdots\\\\ 0 & 0 & 0 & 0 & \\cdots & -1.0 & 0 & 0 & 0\\\\ 0 & 0 & 0 & 0 & \\cdots & 0 & -0.5 & 0 & 0\\\\ 0 & 0 & 0 & 0 & \\cdots & 0 & 0 & -0.5 & 0\\\\ 0 & 0 & 0 & 0 & \\cdots & 0 & 0 & 0 & 0\\end{pmatrix}$"
            ],
            "text/plain": [
              "<IPython.core.display.Math object>"
            ]
          },
          "metadata": {},
          "output_type": "display_data"
        },
        {
          "data": {
            "text/latex": [
              "$\\displaystyle \\underline{\\textbf{For Closed Ising Z model}}$"
            ],
            "text/plain": [
              "<IPython.core.display.Math object>"
            ]
          },
          "metadata": {},
          "output_type": "display_data"
        },
        {
          "data": {
            "text/latex": [
              "$\\displaystyle H_0 = \\begin{pmatrix}-4.0 & 0 & 0 & 0 & \\cdots & 0 & 0 & 0 & 0\\\\ 0 & -3.5 & 0 & 0 & \\cdots & 0 & 0 & 0 & 0\\\\ 0 & 0 & -3.5 & 0 & \\cdots & 0 & 0 & 0 & 0\\\\ 0 & 0 & 0 & -3.0 & \\cdots & 0 & 0 & 0 & 0\\\\ \\cdots&\\cdots&\\cdots&\\cdots&\\cdots&\\cdots&\\cdots&\\cdots&\\cdots\\\\ 0 & 0 & 0 & 0 & \\cdots & -1.0 & 0 & 0 & 0\\\\ 0 & 0 & 0 & 0 & \\cdots & 0 & -0.5 & 0 & 0\\\\ 0 & 0 & 0 & 0 & \\cdots & 0 & 0 & -0.5 & 0\\\\ 0 & 0 & 0 & 0 & \\cdots & 0 & 0 & 0 & 0\\end{pmatrix}$"
            ],
            "text/plain": [
              "<IPython.core.display.Math object>"
            ]
          },
          "metadata": {},
          "output_type": "display_data"
        },
        {
          "data": {
            "text/latex": [
              "$\\displaystyle \\underline{\\textbf{For Open Ising X model}}$"
            ],
            "text/plain": [
              "<IPython.core.display.Math object>"
            ]
          },
          "metadata": {},
          "output_type": "display_data"
        },
        {
          "data": {
            "text/latex": [
              "$\\displaystyle H_0 = \\begin{pmatrix}-4.0 & 0 & 0 & 0 & \\cdots & 0 & 0 & 0 & 0\\\\ 0 & -3.5 & 0 & 0 & \\cdots & 0 & 0 & 0 & 0\\\\ 0 & 0 & -3.5 & 0 & \\cdots & 0 & 0 & 0 & 0\\\\ 0 & 0 & 0 & -3.0 & \\cdots & 0 & 0 & 0 & 0\\\\ \\cdots&\\cdots&\\cdots&\\cdots&\\cdots&\\cdots&\\cdots&\\cdots&\\cdots\\\\ 0 & 0 & 0 & 0 & \\cdots & -1.0 & 0 & 0 & 0\\\\ 0 & 0 & 0 & 0 & \\cdots & 0 & -0.5 & 0 & 0\\\\ 0 & 0 & 0 & 0 & \\cdots & 0 & 0 & -0.5 & 0\\\\ 0 & 0 & 0 & 0 & \\cdots & 0 & 0 & 0 & 0\\end{pmatrix}$"
            ],
            "text/plain": [
              "<IPython.core.display.Math object>"
            ]
          },
          "metadata": {},
          "output_type": "display_data"
        },
        {
          "data": {
            "text/latex": [
              "$\\displaystyle \\underline{\\textbf{For Open Heisenberg XXX model}}$"
            ],
            "text/plain": [
              "<IPython.core.display.Math object>"
            ]
          },
          "metadata": {},
          "output_type": "display_data"
        },
        {
          "data": {
            "text/latex": [
              "$\\displaystyle H_0 = \\begin{pmatrix}-4.0 & 0 & 0 & 0 & \\cdots & 0 & 0 & 0 & 0\\\\ 0 & -3.5 & 0 & 0 & \\cdots & 0 & 0 & 0 & 0\\\\ 0 & 0 & -3.5 & 0 & \\cdots & 0 & 0 & 0 & 0\\\\ 0 & 0 & 0 & -3.0 & \\cdots & 0 & 0 & 0 & 0\\\\ \\cdots&\\cdots&\\cdots&\\cdots&\\cdots&\\cdots&\\cdots&\\cdots&\\cdots\\\\ 0 & 0 & 0 & 0 & \\cdots & -1.0 & 0 & 0 & 0\\\\ 0 & 0 & 0 & 0 & \\cdots & 0 & -0.5 & 0 & 0\\\\ 0 & 0 & 0 & 0 & \\cdots & 0 & 0 & -0.5 & 0\\\\ 0 & 0 & 0 & 0 & \\cdots & 0 & 0 & 0 & 0\\end{pmatrix}$"
            ],
            "text/plain": [
              "<IPython.core.display.Math object>"
            ]
          },
          "metadata": {},
          "output_type": "display_data"
        },
        {
          "data": {
            "text/latex": [
              "$\\displaystyle \\underline{\\textbf{For Open Heisenberg XYZ model}}$"
            ],
            "text/plain": [
              "<IPython.core.display.Math object>"
            ]
          },
          "metadata": {},
          "output_type": "display_data"
        },
        {
          "data": {
            "text/latex": [
              "$\\displaystyle H_0 = \\begin{pmatrix}-4.0 & 0 & 0 & 0 & \\cdots & 0 & 0 & 0 & 0\\\\ 0 & -3.5 & 0 & 0 & \\cdots & 0 & 0 & 0 & 0\\\\ 0 & 0 & -3.5 & 0 & \\cdots & 0 & 0 & 0 & 0\\\\ 0 & 0 & 0 & -3.0 & \\cdots & 0 & 0 & 0 & 0\\\\ \\cdots&\\cdots&\\cdots&\\cdots&\\cdots&\\cdots&\\cdots&\\cdots&\\cdots\\\\ 0 & 0 & 0 & 0 & \\cdots & -1.0 & 0 & 0 & 0\\\\ 0 & 0 & 0 & 0 & \\cdots & 0 & -0.5 & 0 & 0\\\\ 0 & 0 & 0 & 0 & \\cdots & 0 & 0 & -0.5 & 0\\\\ 0 & 0 & 0 & 0 & \\cdots & 0 & 0 & 0 & 0\\end{pmatrix}$"
            ],
            "text/plain": [
              "<IPython.core.display.Math object>"
            ]
          },
          "metadata": {},
          "output_type": "display_data"
        },
        {
          "data": {
            "text/latex": [
              "$\\displaystyle \\underline{\\textbf{For Random Open Ising X model}}$"
            ],
            "text/plain": [
              "<IPython.core.display.Math object>"
            ]
          },
          "metadata": {},
          "output_type": "display_data"
        },
        {
          "data": {
            "text/latex": [
              "$\\displaystyle H_0 = \\begin{pmatrix}-4.0 & 0 & 0 & 0 & \\cdots & 0 & 0 & 0 & 0\\\\ 0 & -3.5 & 0 & 0 & \\cdots & 0 & 0 & 0 & 0\\\\ 0 & 0 & -3.5 & 0 & \\cdots & 0 & 0 & 0 & 0\\\\ 0 & 0 & 0 & -3.0 & \\cdots & 0 & 0 & 0 & 0\\\\ \\cdots&\\cdots&\\cdots&\\cdots&\\cdots&\\cdots&\\cdots&\\cdots&\\cdots\\\\ 0 & 0 & 0 & 0 & \\cdots & -1.0 & 0 & 0 & 0\\\\ 0 & 0 & 0 & 0 & \\cdots & 0 & -0.5 & 0 & 0\\\\ 0 & 0 & 0 & 0 & \\cdots & 0 & 0 & -0.5 & 0\\\\ 0 & 0 & 0 & 0 & \\cdots & 0 & 0 & 0 & 0\\end{pmatrix}$"
            ],
            "text/plain": [
              "<IPython.core.display.Math object>"
            ]
          },
          "metadata": {},
          "output_type": "display_data"
        },
        {
          "data": {
            "text/latex": [
              "$\\displaystyle \\underline{\\textbf{For Spin Glass model}}$"
            ],
            "text/plain": [
              "<IPython.core.display.Math object>"
            ]
          },
          "metadata": {},
          "output_type": "display_data"
        },
        {
          "data": {
            "text/latex": [
              "$\\displaystyle H_0 = \\begin{pmatrix}-4.0 & 0 & 0 & 0 & \\cdots & 0 & 0 & 0 & 0\\\\ 0 & -3.5 & 0 & 0 & \\cdots & 0 & 0 & 0 & 0\\\\ 0 & 0 & -3.5 & 0 & \\cdots & 0 & 0 & 0 & 0\\\\ 0 & 0 & 0 & -3.0 & \\cdots & 0 & 0 & 0 & 0\\\\ \\cdots&\\cdots&\\cdots&\\cdots&\\cdots&\\cdots&\\cdots&\\cdots&\\cdots\\\\ 0 & 0 & 0 & 0 & \\cdots & -1.0 & 0 & 0 & 0\\\\ 0 & 0 & 0 & 0 & \\cdots & 0 & -0.5 & 0 & 0\\\\ 0 & 0 & 0 & 0 & \\cdots & 0 & 0 & -0.5 & 0\\\\ 0 & 0 & 0 & 0 & \\cdots & 0 & 0 & 0 & 0\\end{pmatrix}$"
            ],
            "text/plain": [
              "<IPython.core.display.Math object>"
            ]
          },
          "metadata": {},
          "output_type": "display_data"
        }
      ],
      "source": [
        "# Computing free Hamiltonian\n",
        "\n",
        "for model in Model.all.values():\n",
        "  H0_LIST = [opchain(get_h0(model.w), i+1, model.N) for i in range(model.N)]\n",
        "  model.H0 = np.matrix(np.sum(H0_LIST, axis=0))\n",
        "\n",
        "  print_latex(r\"\\underline{\\textbf{For \" + model.name + r\" model}}\")\n",
        "  print_latex(r\"H_0 = \" + as_latex_matrix(np.real(model.H0), replace_zeros=\"0\"))"
      ]
    },
    {
      "cell_type": "markdown",
      "metadata": {
        "id": "oQXncwctZ19f"
      },
      "source": [
        "### Interaction Hamiltonian\n",
        "We recall that the interaction Hamiltonian is defined such as:\n",
        "\n",
        "$$\n",
        "\\begin{array}{rl}\n",
        "H_{int} &= - \\sum_{i=1}^N \\sum_{j>i} \\vec J_{ij} \\vec S_i \\odot \\vec S_j\\\\\n",
        "&= - \\sum_{i=1}^N \\sum_{j>i} \\sum_{u \\in {x,y,z}} \\vec J_{ij}^u \\vec S_i^u\\vec S_j^u\\\\\n",
        "\\end{array}\n",
        "$$"
      ]
    },
    {
      "cell_type": "code",
      "execution_count": 12,
      "metadata": {
        "cellView": "form",
        "colab": {
          "base_uri": "https://localhost:8080/"
        },
        "id": "HC0JN3ilZ19f",
        "outputId": "5677a02e-661e-413f-b0da-2973a7c1208e"
      },
      "outputs": [
        {
          "data": {
            "text/latex": [
              "$\\displaystyle \\underline{\\textbf{For Open Ising Z model}}$"
            ],
            "text/plain": [
              "<IPython.core.display.Math object>"
            ]
          },
          "metadata": {},
          "output_type": "display_data"
        },
        {
          "data": {
            "text/latex": [
              "$\\displaystyle H_{int} = \\begin{pmatrix}-1.75 & 0 & 0 & 0 & \\cdots & 0 & 0 & 0 & 0\\\\ 0 & -1.25 & 0 & 0 & \\cdots & 0 & 0 & 0 & 0\\\\ 0 & 0 & -0.75 & 0 & \\cdots & 0 & 0 & 0 & 0\\\\ 0 & 0 & 0 & -1.25 & \\cdots & 0 & 0 & 0 & 0\\\\ \\cdots&\\cdots&\\cdots&\\cdots&\\cdots&\\cdots&\\cdots&\\cdots&\\cdots\\\\ 0 & 0 & 0 & 0 & \\cdots & -1.25 & 0 & 0 & 0\\\\ 0 & 0 & 0 & 0 & \\cdots & 0 & -0.75 & 0 & 0\\\\ 0 & 0 & 0 & 0 & \\cdots & 0 & 0 & -1.25 & 0\\\\ 0 & 0 & 0 & 0 & \\cdots & 0 & 0 & 0 & -1.75\\end{pmatrix}$"
            ],
            "text/plain": [
              "<IPython.core.display.Math object>"
            ]
          },
          "metadata": {},
          "output_type": "display_data"
        },
        {
          "data": {
            "text/latex": [
              "$\\displaystyle \\underline{\\textbf{For Closed Ising Z model}}$"
            ],
            "text/plain": [
              "<IPython.core.display.Math object>"
            ]
          },
          "metadata": {},
          "output_type": "display_data"
        },
        {
          "data": {
            "text/latex": [
              "$\\displaystyle H_{int} = \\begin{pmatrix}-2.0 & 0 & 0 & 0 & \\cdots & 0 & 0 & 0 & 0\\\\ 0 & -1.0 & 0 & 0 & \\cdots & 0 & 0 & 0 & 0\\\\ 0 & 0 & -1.0 & 0 & \\cdots & 0 & 0 & 0 & 0\\\\ 0 & 0 & 0 & -1.0 & \\cdots & 0 & 0 & 0 & 0\\\\ \\cdots&\\cdots&\\cdots&\\cdots&\\cdots&\\cdots&\\cdots&\\cdots&\\cdots\\\\ 0 & 0 & 0 & 0 & \\cdots & -1.0 & 0 & 0 & 0\\\\ 0 & 0 & 0 & 0 & \\cdots & 0 & -1.0 & 0 & 0\\\\ 0 & 0 & 0 & 0 & \\cdots & 0 & 0 & -1.0 & 0\\\\ 0 & 0 & 0 & 0 & \\cdots & 0 & 0 & 0 & -2.0\\end{pmatrix}$"
            ],
            "text/plain": [
              "<IPython.core.display.Math object>"
            ]
          },
          "metadata": {},
          "output_type": "display_data"
        },
        {
          "data": {
            "text/latex": [
              "$\\displaystyle \\underline{\\textbf{For Open Ising X model}}$"
            ],
            "text/plain": [
              "<IPython.core.display.Math object>"
            ]
          },
          "metadata": {},
          "output_type": "display_data"
        },
        {
          "data": {
            "text/latex": [
              "$\\displaystyle H_{int} = \\begin{pmatrix}0 & 0 & 0 & -0.25 & \\cdots & 0 & 0 & 0 & 0\\\\ 0 & 0 & -0.25 & 0 & \\cdots & 0 & 0 & 0 & 0\\\\ 0 & -0.25 & 0 & 0 & \\cdots & 0 & 0 & 0 & 0\\\\ -0.25 & 0 & 0 & 0 & \\cdots & 0 & 0 & 0 & 0\\\\ \\cdots&\\cdots&\\cdots&\\cdots&\\cdots&\\cdots&\\cdots&\\cdots&\\cdots\\\\ 0 & 0 & 0 & 0 & \\cdots & 0 & 0 & 0 & -0.25\\\\ 0 & 0 & 0 & 0 & \\cdots & 0 & 0 & -0.25 & 0\\\\ 0 & 0 & 0 & 0 & \\cdots & 0 & -0.25 & 0 & 0\\\\ 0 & 0 & 0 & 0 & \\cdots & -0.25 & 0 & 0 & 0\\end{pmatrix}$"
            ],
            "text/plain": [
              "<IPython.core.display.Math object>"
            ]
          },
          "metadata": {},
          "output_type": "display_data"
        },
        {
          "data": {
            "text/latex": [
              "$\\displaystyle \\underline{\\textbf{For Open Heisenberg XXX model}}$"
            ],
            "text/plain": [
              "<IPython.core.display.Math object>"
            ]
          },
          "metadata": {},
          "output_type": "display_data"
        },
        {
          "data": {
            "text/latex": [
              "$\\displaystyle H_{int} = \\begin{pmatrix}-1.75 & 0 & 0 & 0 & \\cdots & 0 & 0 & 0 & 0\\\\ 0 & -1.25 & -0.5 & 0 & \\cdots & 0 & 0 & 0 & 0\\\\ 0 & -0.5 & -0.75 & 0 & \\cdots & 0 & 0 & 0 & 0\\\\ 0 & 0 & 0 & -1.25 & \\cdots & 0 & 0 & 0 & 0\\\\ \\cdots&\\cdots&\\cdots&\\cdots&\\cdots&\\cdots&\\cdots&\\cdots&\\cdots\\\\ 0 & 0 & 0 & 0 & \\cdots & -1.25 & 0 & 0 & 0\\\\ 0 & 0 & 0 & 0 & \\cdots & 0 & -0.75 & -0.5 & 0\\\\ 0 & 0 & 0 & 0 & \\cdots & 0 & -0.5 & -1.25 & 0\\\\ 0 & 0 & 0 & 0 & \\cdots & 0 & 0 & 0 & -1.75\\end{pmatrix}$"
            ],
            "text/plain": [
              "<IPython.core.display.Math object>"
            ]
          },
          "metadata": {},
          "output_type": "display_data"
        },
        {
          "data": {
            "text/latex": [
              "$\\displaystyle \\underline{\\textbf{For Open Heisenberg XYZ model}}$"
            ],
            "text/plain": [
              "<IPython.core.display.Math object>"
            ]
          },
          "metadata": {},
          "output_type": "display_data"
        },
        {
          "data": {
            "text/latex": [
              "$\\displaystyle H_{int} = \\begin{pmatrix}-2.625 & 0 & 0 & 0.125 & \\cdots & 0 & 0 & 0 & 0\\\\ 0 & -1.875 & -0.375 & 0 & \\cdots & 0 & 0 & 0 & 0\\\\ 0 & -0.375 & -1.125 & 0 & \\cdots & 0 & 0 & 0 & 0\\\\ 0.125 & 0 & 0 & -1.875 & \\cdots & 0 & 0 & 0 & 0\\\\ \\cdots&\\cdots&\\cdots&\\cdots&\\cdots&\\cdots&\\cdots&\\cdots&\\cdots\\\\ 0 & 0 & 0 & 0 & \\cdots & -1.875 & 0 & 0 & 0.125\\\\ 0 & 0 & 0 & 0 & \\cdots & 0 & -1.125 & -0.375 & 0\\\\ 0 & 0 & 0 & 0 & \\cdots & 0 & -0.375 & -1.875 & 0\\\\ 0 & 0 & 0 & 0 & \\cdots & 0.125 & 0 & 0 & -2.625\\end{pmatrix}$"
            ],
            "text/plain": [
              "<IPython.core.display.Math object>"
            ]
          },
          "metadata": {},
          "output_type": "display_data"
        },
        {
          "data": {
            "text/latex": [
              "$\\displaystyle \\underline{\\textbf{For Random Open Ising X model}}$"
            ],
            "text/plain": [
              "<IPython.core.display.Math object>"
            ]
          },
          "metadata": {},
          "output_type": "display_data"
        },
        {
          "data": {
            "text/latex": [
              "$\\displaystyle H_{int} = \\begin{pmatrix}0 & 0 & 0 & 0.001 & \\cdots & 0 & 0 & 0 & 0\\\\ 0 & 0 & 0.001 & 0 & \\cdots & 0 & 0 & 0 & 0\\\\ 0 & 0.001 & 0 & 0 & \\cdots & 0 & 0 & 0 & 0\\\\ 0.001 & 0 & 0 & 0 & \\cdots & 0 & 0 & 0 & 0\\\\ \\cdots&\\cdots&\\cdots&\\cdots&\\cdots&\\cdots&\\cdots&\\cdots&\\cdots\\\\ 0 & 0 & 0 & 0 & \\cdots & 0 & 0 & 0 & 0.001\\\\ 0 & 0 & 0 & 0 & \\cdots & 0 & 0 & 0.001 & 0\\\\ 0 & 0 & 0 & 0 & \\cdots & 0 & 0.001 & 0 & 0\\\\ 0 & 0 & 0 & 0 & \\cdots & 0.001 & 0 & 0 & 0\\end{pmatrix}$"
            ],
            "text/plain": [
              "<IPython.core.display.Math object>"
            ]
          },
          "metadata": {},
          "output_type": "display_data"
        },
        {
          "data": {
            "text/latex": [
              "$\\displaystyle \\underline{\\textbf{For Spin Glass model}}$"
            ],
            "text/plain": [
              "<IPython.core.display.Math object>"
            ]
          },
          "metadata": {},
          "output_type": "display_data"
        },
        {
          "data": {
            "text/latex": [
              "$\\displaystyle H_{int} = \\begin{pmatrix}0.873 & 0 & 0 & 0.205 & \\cdots & 0 & 0 & 0 & 0\\\\ 0 & 0.111 & 0.211 & 0 & \\cdots & 0 & 0 & 0 & 0\\\\ 0 & 0.211 & -0.966 & 0 & \\cdots & 0 & 0 & 0 & 0\\\\ 0.205 & 0 & 0 & -0.863 & \\cdots & 0 & 0 & 0 & 0\\\\ \\cdots&\\cdots&\\cdots&\\cdots&\\cdots&\\cdots&\\cdots&\\cdots&\\cdots\\\\ 0 & 0 & 0 & 0 & \\cdots & -0.863 & 0 & 0 & 0.205\\\\ 0 & 0 & 0 & 0 & \\cdots & 0 & -0.966 & 0.211 & 0\\\\ 0 & 0 & 0 & 0 & \\cdots & 0 & 0.211 & 0.111 & 0\\\\ 0 & 0 & 0 & 0 & \\cdots & 0.205 & 0 & 0 & 0.873\\end{pmatrix}$"
            ],
            "text/plain": [
              "<IPython.core.display.Math object>"
            ]
          },
          "metadata": {},
          "output_type": "display_data"
        }
      ],
      "source": [
        "# Computing interaction Hamiltonians for each model\n",
        "\n",
        "for model in Model.all.values():\n",
        "  model.Hi = get_H_int(model.J, S)\n",
        "\n",
        "  print_latex(r\"\\underline{\\textbf{For \" + model.name + r\" model}}\")\n",
        "  print_latex(r\"H_{int} = \" + as_latex_matrix(np.real(model.Hi)))"
      ]
    },
    {
      "cell_type": "markdown",
      "metadata": {
        "id": "pRZfIESkZ19g"
      },
      "source": [
        "### Total Hamiltonian\n",
        "\n",
        "$$\n",
        "H_{T} = H_0 + H_{int}\n",
        "$$"
      ]
    },
    {
      "cell_type": "code",
      "execution_count": 13,
      "metadata": {
        "cellView": "form",
        "colab": {
          "base_uri": "https://localhost:8080/"
        },
        "id": "4IRxw5b7Z19g",
        "outputId": "36557305-23af-4218-9f72-044a2d3a0f3e"
      },
      "outputs": [
        {
          "name": "stdout",
          "output_type": "stream",
          "text": [
            "For Open Ising Z model:\n"
          ]
        },
        {
          "data": {
            "text/latex": [
              "$\\displaystyle H_T = \\begin{pmatrix}-5.75 & 0 & 0 & 0 & \\cdots & 0 & 0 & 0 & 0\\\\ 0 & -4.75 & 0 & 0 & \\cdots & 0 & 0 & 0 & 0\\\\ 0 & 0 & -4.25 & 0 & \\cdots & 0 & 0 & 0 & 0\\\\ 0 & 0 & 0 & -4.25 & \\cdots & 0 & 0 & 0 & 0\\\\ \\cdots&\\cdots&\\cdots&\\cdots&\\cdots&\\cdots&\\cdots&\\cdots&\\cdots\\\\ 0 & 0 & 0 & 0 & \\cdots & -2.25 & 0 & 0 & 0\\\\ 0 & 0 & 0 & 0 & \\cdots & 0 & -1.25 & 0 & 0\\\\ 0 & 0 & 0 & 0 & \\cdots & 0 & 0 & -1.75 & 0\\\\ 0 & 0 & 0 & 0 & \\cdots & 0 & 0 & 0 & -1.75\\end{pmatrix}$"
            ],
            "text/plain": [
              "<IPython.core.display.Math object>"
            ]
          },
          "metadata": {},
          "output_type": "display_data"
        },
        {
          "name": "stdout",
          "output_type": "stream",
          "text": [
            "For Closed Ising Z model:\n"
          ]
        },
        {
          "data": {
            "text/latex": [
              "$\\displaystyle H_T = \\begin{pmatrix}-6.0 & 0 & 0 & 0 & \\cdots & 0 & 0 & 0 & 0\\\\ 0 & -4.5 & 0 & 0 & \\cdots & 0 & 0 & 0 & 0\\\\ 0 & 0 & -4.5 & 0 & \\cdots & 0 & 0 & 0 & 0\\\\ 0 & 0 & 0 & -4.0 & \\cdots & 0 & 0 & 0 & 0\\\\ \\cdots&\\cdots&\\cdots&\\cdots&\\cdots&\\cdots&\\cdots&\\cdots&\\cdots\\\\ 0 & 0 & 0 & 0 & \\cdots & -2.0 & 0 & 0 & 0\\\\ 0 & 0 & 0 & 0 & \\cdots & 0 & -1.5 & 0 & 0\\\\ 0 & 0 & 0 & 0 & \\cdots & 0 & 0 & -1.5 & 0\\\\ 0 & 0 & 0 & 0 & \\cdots & 0 & 0 & 0 & -2.0\\end{pmatrix}$"
            ],
            "text/plain": [
              "<IPython.core.display.Math object>"
            ]
          },
          "metadata": {},
          "output_type": "display_data"
        },
        {
          "name": "stdout",
          "output_type": "stream",
          "text": [
            "For Open Ising X model:\n"
          ]
        },
        {
          "data": {
            "text/latex": [
              "$\\displaystyle H_T = \\begin{pmatrix}-4.0 & 0 & 0 & -0.25 & \\cdots & 0 & 0 & 0 & 0\\\\ 0 & -3.5 & -0.25 & 0 & \\cdots & 0 & 0 & 0 & 0\\\\ 0 & -0.25 & -3.5 & 0 & \\cdots & 0 & 0 & 0 & 0\\\\ -0.25 & 0 & 0 & -3.0 & \\cdots & 0 & 0 & 0 & 0\\\\ \\cdots&\\cdots&\\cdots&\\cdots&\\cdots&\\cdots&\\cdots&\\cdots&\\cdots\\\\ 0 & 0 & 0 & 0 & \\cdots & -1.0 & 0 & 0 & -0.25\\\\ 0 & 0 & 0 & 0 & \\cdots & 0 & -0.5 & -0.25 & 0\\\\ 0 & 0 & 0 & 0 & \\cdots & 0 & -0.25 & -0.5 & 0\\\\ 0 & 0 & 0 & 0 & \\cdots & -0.25 & 0 & 0 & 0\\end{pmatrix}$"
            ],
            "text/plain": [
              "<IPython.core.display.Math object>"
            ]
          },
          "metadata": {},
          "output_type": "display_data"
        },
        {
          "name": "stdout",
          "output_type": "stream",
          "text": [
            "For Open Heisenberg XXX model:\n"
          ]
        },
        {
          "data": {
            "text/latex": [
              "$\\displaystyle H_T = \\begin{pmatrix}-5.75 & 0 & 0 & 0 & \\cdots & 0 & 0 & 0 & 0\\\\ 0 & -4.75 & -0.5 & 0 & \\cdots & 0 & 0 & 0 & 0\\\\ 0 & -0.5 & -4.25 & 0 & \\cdots & 0 & 0 & 0 & 0\\\\ 0 & 0 & 0 & -4.25 & \\cdots & 0 & 0 & 0 & 0\\\\ \\cdots&\\cdots&\\cdots&\\cdots&\\cdots&\\cdots&\\cdots&\\cdots&\\cdots\\\\ 0 & 0 & 0 & 0 & \\cdots & -2.25 & 0 & 0 & 0\\\\ 0 & 0 & 0 & 0 & \\cdots & 0 & -1.25 & -0.5 & 0\\\\ 0 & 0 & 0 & 0 & \\cdots & 0 & -0.5 & -1.75 & 0\\\\ 0 & 0 & 0 & 0 & \\cdots & 0 & 0 & 0 & -1.75\\end{pmatrix}$"
            ],
            "text/plain": [
              "<IPython.core.display.Math object>"
            ]
          },
          "metadata": {},
          "output_type": "display_data"
        },
        {
          "name": "stdout",
          "output_type": "stream",
          "text": [
            "For Open Heisenberg XYZ model:\n"
          ]
        },
        {
          "data": {
            "text/latex": [
              "$\\displaystyle H_T = \\begin{pmatrix}-6.625 & 0 & 0 & 0.125 & \\cdots & 0 & 0 & 0 & 0\\\\ 0 & -5.375 & -0.375 & 0 & \\cdots & 0 & 0 & 0 & 0\\\\ 0 & -0.375 & -4.625 & 0 & \\cdots & 0 & 0 & 0 & 0\\\\ 0.125 & 0 & 0 & -4.875 & \\cdots & 0 & 0 & 0 & 0\\\\ \\cdots&\\cdots&\\cdots&\\cdots&\\cdots&\\cdots&\\cdots&\\cdots&\\cdots\\\\ 0 & 0 & 0 & 0 & \\cdots & -2.875 & 0 & 0 & 0.125\\\\ 0 & 0 & 0 & 0 & \\cdots & 0 & -1.625 & -0.375 & 0\\\\ 0 & 0 & 0 & 0 & \\cdots & 0 & -0.375 & -2.375 & 0\\\\ 0 & 0 & 0 & 0 & \\cdots & 0.125 & 0 & 0 & -2.625\\end{pmatrix}$"
            ],
            "text/plain": [
              "<IPython.core.display.Math object>"
            ]
          },
          "metadata": {},
          "output_type": "display_data"
        },
        {
          "name": "stdout",
          "output_type": "stream",
          "text": [
            "For Random Open Ising X model:\n"
          ]
        },
        {
          "data": {
            "text/latex": [
              "$\\displaystyle H_T = \\begin{pmatrix}-4.0 & 0 & 0 & 0.001 & \\cdots & 0 & 0 & 0 & 0\\\\ 0 & -3.5 & 0.001 & 0 & \\cdots & 0 & 0 & 0 & 0\\\\ 0 & 0.001 & -3.5 & 0 & \\cdots & 0 & 0 & 0 & 0\\\\ 0.001 & 0 & 0 & -3.0 & \\cdots & 0 & 0 & 0 & 0\\\\ \\cdots&\\cdots&\\cdots&\\cdots&\\cdots&\\cdots&\\cdots&\\cdots&\\cdots\\\\ 0 & 0 & 0 & 0 & \\cdots & -1.0 & 0 & 0 & 0.001\\\\ 0 & 0 & 0 & 0 & \\cdots & 0 & -0.5 & 0.001 & 0\\\\ 0 & 0 & 0 & 0 & \\cdots & 0 & 0.001 & -0.5 & 0\\\\ 0 & 0 & 0 & 0 & \\cdots & 0.001 & 0 & 0 & 0\\end{pmatrix}$"
            ],
            "text/plain": [
              "<IPython.core.display.Math object>"
            ]
          },
          "metadata": {},
          "output_type": "display_data"
        },
        {
          "name": "stdout",
          "output_type": "stream",
          "text": [
            "For Spin Glass model:\n"
          ]
        },
        {
          "data": {
            "text/latex": [
              "$\\displaystyle H_T = \\begin{pmatrix}-3.127 & 0 & 0 & 0.205 & \\cdots & 0 & 0 & 0 & 0\\\\ 0 & -3.389 & 0.211 & 0 & \\cdots & 0 & 0 & 0 & 0\\\\ 0 & 0.211 & -4.466 & 0 & \\cdots & 0 & 0 & 0 & 0\\\\ 0.205 & 0 & 0 & -3.863 & \\cdots & 0 & 0 & 0 & 0\\\\ \\cdots&\\cdots&\\cdots&\\cdots&\\cdots&\\cdots&\\cdots&\\cdots&\\cdots\\\\ 0 & 0 & 0 & 0 & \\cdots & -1.863 & 0 & 0 & 0.205\\\\ 0 & 0 & 0 & 0 & \\cdots & 0 & -1.466 & 0.211 & 0\\\\ 0 & 0 & 0 & 0 & \\cdots & 0 & 0.211 & -0.389 & 0\\\\ 0 & 0 & 0 & 0 & \\cdots & 0.205 & 0 & 0 & 0.873\\end{pmatrix}$"
            ],
            "text/plain": [
              "<IPython.core.display.Math object>"
            ]
          },
          "metadata": {},
          "output_type": "display_data"
        }
      ],
      "source": [
        "# Computing total Hamiltonians for each model\n",
        "#@title ###### Computing total Hamiltonians for each model\n",
        "\n",
        "# Selected one\n",
        "for model in Model.all.values():\n",
        "  model.H = model.H0 + model.Hi\n",
        "\n",
        "  print(\"For \" + model.name + \" model:\")\n",
        "  print_latex(r\"H_T = \" + as_latex_matrix(np.real(model.H)))"
      ]
    },
    {
      "cell_type": "markdown",
      "metadata": {},
      "source": [
        "## 2.2 - Diagonalization algorithm"
      ]
    },
    {
      "attachments": {},
      "cell_type": "markdown",
      "metadata": {},
      "source": [
        "### Ground state\n",
        "\n",
        "> **TP question:** By using the power method, code a python program computing the two first eigenvalues and\n",
        "the associated eigenvectors of H (write the eigenvectors in the Dirac notation in the canonical basis, by\n",
        "rounding the various coefficients to two decimal places). In the final report, only for model (3) compare the\n",
        "results obtained with your code with the ones given by the python function La. eigh (compare the precisions\n",
        "in the validity of the eigenequation and search the number of iterations needed to obtain the same precision\n",
        "\n",
        "Pseudo code:\n",
        "\n",
        "$$\n",
        "\\begin{aligned}\n",
        "&\\text { take random vector }\\left|\\phi_0\\right\\rangle \\\\\n",
        "&\\text { normalize }\\left|\\phi_0\\right\\rangle \\\\\n",
        "&H \\leftarrow H-\\text { shift } * \\operatorname{id}_{2^N} \\\\\n",
        "&\\text { while } \\| H\\left|\\phi_0\\right\\rangle-\\left\\langle\\phi_0|H| \\phi_0\\right\\rangle\\left|\\phi_0\\right\\rangle \\|>\\epsilon \\text { and } k \\leq k_{\\max } \\text { do } \\\\\n",
        "&\\quad\\left|\\phi_0\\right\\rangle \\leftarrow H\\left|\\phi_0\\right\\rangle \\\\\n",
        "&\\quad \\text { normalize }\\left|\\phi_0\\right\\rangle \\\\\n",
        "&\\quad k \\leftarrow k+1 \\\\\n",
        "&\\text { end while } \\\\\n",
        "&H \\leftarrow H+\\text { shift } * \\operatorname{id}_{2^N} \\\\\n",
        "&\\lambda_0 \\leftarrow\\left\\langle\\phi_0|H| \\phi_0\\right\\rangle\n",
        "\\end{aligned}\n",
        "$$\n",
        "\n",
        "The parameters of the algorithm are\n",
        "- $\\text{shift}$ (positive real number): the shifting value used to ensure a negative spectrum;\n",
        "- $\\epsilon$: the wanted precision concerning the verification of the eigenequation (typically $\\epsilon$ = 10−8);\n",
        "- $k_{max}$: the maximal number of iterations, if $k$ reaches $k_{max}$ before the eigenequation be satisfied with\n",
        "the precision $\\epsilon$ then the algorithm has not converged."
      ]
    },
    {
      "cell_type": "code",
      "execution_count": 14,
      "metadata": {},
      "outputs": [
        {
          "data": {
            "text/latex": [
              "$\\displaystyle \\underline{\\textbf{For Open Ising Z mode}}$"
            ],
            "text/plain": [
              "<IPython.core.display.Math object>"
            ]
          },
          "metadata": {},
          "output_type": "display_data"
        },
        {
          "name": "stdout",
          "output_type": "stream",
          "text": [
            "Converged in 99 iterations\n",
            "Time elapsed for homemade algorithm: 0.037 s\n",
            "Time elapsed for numpy algorithm: 0.024 s\n"
          ]
        },
        {
          "name": "stderr",
          "output_type": "stream",
          "text": [
            "C:\\Users\\vince\\AppData\\Local\\Temp\\ipykernel_8780\\4134197735.py:45: ComplexWarning: Casting complex values to real discards the imaginary part\n",
            "  a[:cut_at, :] = m[:cut_at, :]\n",
            "C:\\Users\\vince\\AppData\\Local\\Temp\\ipykernel_8780\\4134197735.py:46: ComplexWarning: Casting complex values to real discards the imaginary part\n",
            "  a[-cut_at:, :] = m[-cut_at:, :]\n"
          ]
        },
        {
          "data": {
            "text/latex": [
              "$\\displaystyle \\text{Homemade algorithm: } \\phi_0 = \\begin{pmatrix}-0.32\\\\ 0\\\\ 0\\\\ 0\\\\ 0\\\\ 0\\\\ 0\\\\ 0\\end{pmatrix}\\quad \\lambda_0 = -5.750\\quad\\quad\\quad \\text{Numpy function} \\quad \\phi_0 = \\begin{pmatrix}1.0\\\\ 0\\\\ 0\\\\ 0\\\\ 0\\\\ 0\\\\ 0\\\\ 0\\end{pmatrix}\\quad \\lambda_0 = -5.750$"
            ],
            "text/plain": [
              "<IPython.core.display.Math object>"
            ]
          },
          "metadata": {},
          "output_type": "display_data"
        },
        {
          "data": {
            "text/latex": [
              "$\\displaystyle \\underline{\\textbf{For Closed Ising Z mode}}$"
            ],
            "text/plain": [
              "<IPython.core.display.Math object>"
            ]
          },
          "metadata": {},
          "output_type": "display_data"
        },
        {
          "name": "stdout",
          "output_type": "stream",
          "text": [
            "Converged in 70 iterations\n",
            "Time elapsed for homemade algorithm: 0.032 s\n",
            "Time elapsed for numpy algorithm: 0.016 s\n"
          ]
        },
        {
          "data": {
            "text/latex": [
              "$\\displaystyle \\text{Homemade algorithm: } \\phi_0 = \\begin{pmatrix}0.224\\\\ 0\\\\ 0\\\\ 0\\\\ 0\\\\ 0\\\\ 0\\\\ 0\\end{pmatrix}\\quad \\lambda_0 = -6.000\\quad\\quad\\quad \\text{Numpy function} \\quad \\phi_0 = \\begin{pmatrix}1.0\\\\ 0\\\\ 0\\\\ 0\\\\ 0\\\\ 0\\\\ 0\\\\ 0\\end{pmatrix}\\quad \\lambda_0 = -6.000$"
            ],
            "text/plain": [
              "<IPython.core.display.Math object>"
            ]
          },
          "metadata": {},
          "output_type": "display_data"
        },
        {
          "data": {
            "text/latex": [
              "$\\displaystyle \\underline{\\textbf{For Open Ising X mode}}$"
            ],
            "text/plain": [
              "<IPython.core.display.Math object>"
            ]
          },
          "metadata": {},
          "output_type": "display_data"
        },
        {
          "name": "stdout",
          "output_type": "stream",
          "text": [
            "Converged in 780 iterations\n",
            "Time elapsed for homemade algorithm: 0.301 s\n",
            "Time elapsed for numpy algorithm: 0.057 s\n"
          ]
        },
        {
          "data": {
            "text/latex": [
              "$\\displaystyle \\text{Homemade algorithm: } \\phi_0 = \\begin{pmatrix}-0.723\\\\ 0\\\\ 0\\\\ -0.181\\\\ -0.015\\\\ 0\\\\ 0\\\\ -0.004\\end{pmatrix}\\quad \\lambda_0 = -4.459\\quad\\quad\\quad \\text{Numpy function} \\quad \\phi_0 = \\begin{pmatrix}0.752\\\\ 0\\\\ 0\\\\ -0.312\\\\ 0.007\\\\ 0\\\\ 0\\\\ -0.004\\end{pmatrix}\\quad \\lambda_0 = -4.459$"
            ],
            "text/plain": [
              "<IPython.core.display.Math object>"
            ]
          },
          "metadata": {},
          "output_type": "display_data"
        },
        {
          "data": {
            "text/latex": [
              "$\\displaystyle \\underline{\\textbf{For Open Heisenberg XXX mode}}$"
            ],
            "text/plain": [
              "<IPython.core.display.Math object>"
            ]
          },
          "metadata": {},
          "output_type": "display_data"
        },
        {
          "name": "stdout",
          "output_type": "stream",
          "text": [
            "Converged in 200 iterations\n",
            "Time elapsed for homemade algorithm: 0.079 s\n",
            "Time elapsed for numpy algorithm: 0.048 s\n"
          ]
        },
        {
          "data": {
            "text/latex": [
              "$\\displaystyle \\text{Homemade algorithm: } \\phi_0 = \\begin{pmatrix}-0.879\\\\ 0\\\\ 0\\\\ 0\\\\ 0\\\\ 0\\\\ 0\\\\ 0\\end{pmatrix}\\quad \\lambda_0 = -5.750\\quad\\quad\\quad \\text{Numpy function} \\quad \\phi_0 = \\begin{pmatrix}1.0\\\\ 0\\\\ 0\\\\ 0\\\\ 0\\\\ 0\\\\ 0\\\\ 0\\end{pmatrix}\\quad \\lambda_0 = -5.750$"
            ],
            "text/plain": [
              "<IPython.core.display.Math object>"
            ]
          },
          "metadata": {},
          "output_type": "display_data"
        },
        {
          "data": {
            "text/latex": [
              "$\\displaystyle \\underline{\\textbf{For Open Heisenberg XYZ mode}}$"
            ],
            "text/plain": [
              "<IPython.core.display.Math object>"
            ]
          },
          "metadata": {},
          "output_type": "display_data"
        },
        {
          "name": "stdout",
          "output_type": "stream",
          "text": [
            "Converged in 212 iterations\n",
            "Time elapsed for homemade algorithm: 0.064 s\n",
            "Time elapsed for numpy algorithm: 0.056 s\n"
          ]
        },
        {
          "data": {
            "text/latex": [
              "$\\displaystyle \\text{Homemade algorithm: } \\phi_0 = \\begin{pmatrix}-0.92\\\\ 0\\\\ 0\\\\ 0.068\\\\ 0\\\\ 0\\\\ 0\\\\ 0\\end{pmatrix}\\quad \\lambda_0 = -6.677\\quad\\quad\\quad \\text{Numpy function} \\quad \\phi_0 = \\begin{pmatrix}-0.987\\\\ 0\\\\ 0\\\\ 0\\\\ 0\\\\ 0\\\\ 0\\\\ 0\\end{pmatrix}\\quad \\lambda_0 = -6.677$"
            ],
            "text/plain": [
              "<IPython.core.display.Math object>"
            ]
          },
          "metadata": {},
          "output_type": "display_data"
        },
        {
          "data": {
            "text/latex": [
              "$\\displaystyle \\underline{\\textbf{For Random Open Ising X mode}}$"
            ],
            "text/plain": [
              "<IPython.core.display.Math object>"
            ]
          },
          "metadata": {},
          "output_type": "display_data"
        },
        {
          "name": "stdout",
          "output_type": "stream",
          "text": [
            "Converged in 270 iterations\n",
            "Time elapsed for homemade algorithm: 0.072 s\n",
            "Time elapsed for numpy algorithm: 0.048 s\n"
          ]
        },
        {
          "data": {
            "text/latex": [
              "$\\displaystyle \\text{Homemade algorithm: } \\phi_0 = \\begin{pmatrix}0.906\\\\ 0\\\\ 0\\\\ -0.001\\\\ 0.001\\\\ 0\\\\ 0\\\\ 0\\end{pmatrix}\\quad \\lambda_0 = -4.078\\quad\\quad\\quad \\text{Numpy function} \\quad \\phi_0 = \\begin{pmatrix}0.963\\\\ 0\\\\ 0\\\\ 0\\\\ 0\\\\ 0\\\\ 0\\\\ 0\\end{pmatrix}\\quad \\lambda_0 = -4.078$"
            ],
            "text/plain": [
              "<IPython.core.display.Math object>"
            ]
          },
          "metadata": {},
          "output_type": "display_data"
        },
        {
          "data": {
            "text/latex": [
              "$\\displaystyle \\underline{\\textbf{For Spin Glass mode}}$"
            ],
            "text/plain": [
              "<IPython.core.display.Math object>"
            ]
          },
          "metadata": {},
          "output_type": "display_data"
        },
        {
          "name": "stdout",
          "output_type": "stream",
          "text": [
            "Converged in 817 iterations\n",
            "Time elapsed for homemade algorithm: 0.226 s\n",
            "Time elapsed for numpy algorithm: 0.050 s\n"
          ]
        },
        {
          "data": {
            "text/latex": [
              "$\\displaystyle \\text{Homemade algorithm: } \\phi_0 = \\begin{pmatrix}0.042\\\\ 0\\\\ 0\\\\ 0.185\\\\ -0.013\\\\ 0\\\\ 0\\\\ -0.002\\end{pmatrix}\\quad \\lambda_0 = -5.689\\quad\\quad\\quad \\text{Numpy function} \\quad \\phi_0 = \\begin{pmatrix}0.066\\\\ 0\\\\ 0\\\\ 0.106\\\\ 0.003\\\\ 0\\\\ 0\\\\ -0.001\\end{pmatrix}\\quad \\lambda_0 = -5.689$"
            ],
            "text/plain": [
              "<IPython.core.display.Math object>"
            ]
          },
          "metadata": {},
          "output_type": "display_data"
        }
      ],
      "source": [
        "# Ground state\n",
        "\n",
        "def ground_state(H, shift = None, kmax=1e6, eps=1e-8):\n",
        "    if shift is None:\n",
        "        shift = int(abs(np.amax(H)) * 10)\n",
        "        \n",
        "    phi = np.matrix(np.exp(1j * np.random.rand(H.shape[0]) * 2 * np.pi)).T\n",
        "    phi = phi / np.linalg.norm(phi)\n",
        "    H = H - shift * np.eye(H.shape[0])\n",
        "    k = 0\n",
        "    while np.linalg.norm(H @ phi - scalar(phi.H @ H @ phi)*phi\n",
        "    ) > eps and (k <= kmax):\n",
        "        phi = H @ phi\n",
        "        phi = phi / np.linalg.norm(phi)\n",
        "        k += 1\n",
        "    H = H + shift * np.eye(H.shape[0])\n",
        "    print(f\"Converged in {k} iterations\")\n",
        "    return phi, scalar(phi.H @ H @ phi)\n",
        "\n",
        "for model in Model.all.values():\n",
        "\n",
        "    print_latex(r\"\\underline{\\textbf{For \" + model.name + r\" mode}}\")\n",
        "\n",
        "    start = time.time()\n",
        "    model.phi0, model.l0 = ground_state(model.H)\n",
        "    print(f\"Time elapsed for homemade algorithm: {time.time() - start:.3f} s\")\n",
        "\n",
        "    start = time.time()\n",
        "    eigs = np.linalg.eigh(model.H)\n",
        "    print(f\"Time elapsed for numpy algorithm: {time.time() - start:.3f} s\")\n",
        "\n",
        "    print_latex(r\"\\text{Homemade algorithm: } \\phi_0 = \"\n",
        "        + as_latex_matrix(model.phi0)\n",
        "        + (\" = \" + braket_notation(model.phi0) if model.N <= 3 else \"\")\n",
        "        + r\"\\quad \\lambda_0 = \"\n",
        "        + f\"{np.real(model.l0):.3f}\"\n",
        "        + r\"\\quad\\quad\\quad \\text{Numpy function} \\quad \\phi_0 = \"\n",
        "        + as_latex_matrix(np.matrix(eigs[1][0].T))\n",
        "        + (\" = \" + braket_notation(eigs[1][0].T) if model.N <= 3 else \"\")\n",
        "        + r\"\\quad \\lambda_0 = \"\n",
        "        + f\"{eigs[0][0]:.3f}\")"
      ]
    },
    {
      "cell_type": "markdown",
      "metadata": {},
      "source": [
        "### First excited state\n",
        "\n",
        "Pseudo code:\n",
        "$$\n",
        "\\begin{aligned}\n",
        "&\\text { take random vector }\\left|\\phi_1\\right\\rangle \\\\\n",
        "&\\left|\\phi_1\\right\\rangle \\leftarrow\\left|\\phi_1\\right\\rangle-\\left\\langle\\phi_0 \\mid \\phi_1\\right\\rangle\\left|\\phi_0\\right\\rangle \\\\\n",
        "&\\text { normalize }\\left|\\phi_1\\right\\rangle \\\\\n",
        "&H \\leftarrow H-\\text { shift }^* \\text { id }_{2^N} \\\\\n",
        "&\\text { while } \\| H\\left|\\phi_1\\right\\rangle-\\left\\langle\\phi_1|H| \\phi_1\\right\\rangle\\left|\\phi_1\\right\\rangle \\|>\\epsilon \\text { and } k<k_{\\text {max }} \\text { do } \\\\\n",
        "&\\quad \\phi_1 \\leftarrow H \\phi_1 \\\\\n",
        "&\\quad\\left|\\phi_1\\right\\rangle \\leftarrow\\left|\\phi_1\\right\\rangle-\\left\\langle\\phi_0 \\mid \\phi_1\\right\\rangle\\left|\\phi_0\\right\\rangle \\\\\n",
        "&\\quad \\text { normalize }\\left|\\phi_1\\right\\rangle \\\\\n",
        "&\\quad k \\leftarrow k+1 \\\\\n",
        "&\\text { end while } \\\\\n",
        "&H \\leftarrow H+\\text { shift } * \\text { id }_{2^N} \\\\\n",
        "&\\lambda_1 \\leftarrow\\left\\langle\\phi_1|H| \\phi_1\\right\\rangle\n",
        "\\end{aligned}\n",
        "$$"
      ]
    },
    {
      "cell_type": "code",
      "execution_count": 15,
      "metadata": {},
      "outputs": [
        {
          "data": {
            "text/latex": [
              "$\\displaystyle \\underline{\\textbf{For Open Ising Z mode}}$"
            ],
            "text/plain": [
              "<IPython.core.display.Math object>"
            ]
          },
          "metadata": {},
          "output_type": "display_data"
        },
        {
          "name": "stdout",
          "output_type": "stream",
          "text": [
            "Converged in 3856 iterations\n",
            "Time elapsed for homemade algorithm: 1.353 s\n",
            "Time elapsed for numpy algorithm: 0.024 s\n"
          ]
        },
        {
          "name": "stderr",
          "output_type": "stream",
          "text": [
            "C:\\Users\\vince\\AppData\\Local\\Temp\\ipykernel_8780\\4134197735.py:45: ComplexWarning: Casting complex values to real discards the imaginary part\n",
            "  a[:cut_at, :] = m[:cut_at, :]\n",
            "C:\\Users\\vince\\AppData\\Local\\Temp\\ipykernel_8780\\4134197735.py:46: ComplexWarning: Casting complex values to real discards the imaginary part\n",
            "  a[-cut_at:, :] = m[-cut_at:, :]\n"
          ]
        },
        {
          "data": {
            "text/latex": [
              "$\\displaystyle \\text{Homemade algorithm: } \\phi_1 = \\begin{pmatrix}0\\\\ -0.552\\\\ 0\\\\ 0\\\\ 0\\\\ 0\\\\ 0\\\\ 0\\end{pmatrix}\\quad \\lambda_1 = -4.750\\quad\\quad\\quad \\text{Numpy function:} \\quad \\phi_1 = \\begin{pmatrix}0\\\\ 1.0\\\\ 0\\\\ 0\\\\ 0\\\\ 0\\\\ 0\\\\ 0\\end{pmatrix}\\quad \\lambda_1 = -4.750$"
            ],
            "text/plain": [
              "<IPython.core.display.Math object>"
            ]
          },
          "metadata": {},
          "output_type": "display_data"
        },
        {
          "data": {
            "text/latex": [
              "$\\displaystyle \\underline{\\textbf{For Closed Ising Z mode}}$"
            ],
            "text/plain": [
              "<IPython.core.display.Math object>"
            ]
          },
          "metadata": {},
          "output_type": "display_data"
        },
        {
          "name": "stdout",
          "output_type": "stream",
          "text": [
            "Converged in 3706 iterations\n",
            "Time elapsed for homemade algorithm: 1.410 s\n",
            "Time elapsed for numpy algorithm: 0.025 s\n"
          ]
        },
        {
          "data": {
            "text/latex": [
              "$\\displaystyle \\text{Homemade algorithm: } \\phi_1 = \\begin{pmatrix}0\\\\ 0.228\\\\ 0.094\\\\ 0\\\\ 0\\\\ 0\\\\ 0\\\\ 0\\end{pmatrix}\\quad \\lambda_1 = -4.500\\quad\\quad\\quad \\text{Numpy function:} \\quad \\phi_1 = \\begin{pmatrix}0\\\\ 1.0\\\\ 0\\\\ 0\\\\ 0\\\\ 0\\\\ 0\\\\ 0\\end{pmatrix}\\quad \\lambda_1 = -4.500$"
            ],
            "text/plain": [
              "<IPython.core.display.Math object>"
            ]
          },
          "metadata": {},
          "output_type": "display_data"
        },
        {
          "data": {
            "text/latex": [
              "$\\displaystyle \\underline{\\textbf{For Open Ising X mode}}$"
            ],
            "text/plain": [
              "<IPython.core.display.Math object>"
            ]
          },
          "metadata": {},
          "output_type": "display_data"
        },
        {
          "name": "stdout",
          "output_type": "stream",
          "text": [
            "Converged in 11321 iterations\n",
            "Time elapsed for homemade algorithm: 3.926 s\n",
            "Time elapsed for numpy algorithm: 0.056 s\n"
          ]
        },
        {
          "data": {
            "text/latex": [
              "$\\displaystyle \\text{Homemade algorithm: } \\phi_1 = \\begin{pmatrix}0\\\\ 0.182\\\\ 0.265\\\\ 0\\\\ 0\\\\ 0.006\\\\ 0.011\\\\ 0\\end{pmatrix}\\quad \\lambda_1 = -4.367\\quad\\quad\\quad \\text{Numpy function:} \\quad \\phi_1 = \\begin{pmatrix}0\\\\ -0.187\\\\ 0.333\\\\ 0\\\\ 0\\\\ -0.001\\\\ -0.012\\\\ 0\\end{pmatrix}\\quad \\lambda_1 = -4.367$"
            ],
            "text/plain": [
              "<IPython.core.display.Math object>"
            ]
          },
          "metadata": {},
          "output_type": "display_data"
        },
        {
          "data": {
            "text/latex": [
              "$\\displaystyle \\underline{\\textbf{For Open Heisenberg XXX mode}}$"
            ],
            "text/plain": [
              "<IPython.core.display.Math object>"
            ]
          },
          "metadata": {},
          "output_type": "display_data"
        },
        {
          "name": "stdout",
          "output_type": "stream",
          "text": [
            "Converged in 24256 iterations\n",
            "Time elapsed for homemade algorithm: 7.411 s\n",
            "Time elapsed for numpy algorithm: 0.048 s\n"
          ]
        },
        {
          "data": {
            "text/latex": [
              "$\\displaystyle \\text{Homemade algorithm: } \\phi_1 = \\begin{pmatrix}0\\\\ 0.352\\\\ 0.352\\\\ 0\\\\ 0\\\\ 0\\\\ 0\\\\ 0\\end{pmatrix}\\quad \\lambda_1 = -5.250\\quad\\quad\\quad \\text{Numpy function:} \\quad \\phi_1 = \\begin{pmatrix}0\\\\ 0.354\\\\ -0.49\\\\ -0.462\\\\ 0\\\\ 0\\\\ 0\\\\ 0\\end{pmatrix}\\quad \\lambda_1 = -5.250$"
            ],
            "text/plain": [
              "<IPython.core.display.Math object>"
            ]
          },
          "metadata": {},
          "output_type": "display_data"
        },
        {
          "data": {
            "text/latex": [
              "$\\displaystyle \\underline{\\textbf{For Open Heisenberg XYZ mode}}$"
            ],
            "text/plain": [
              "<IPython.core.display.Math object>"
            ]
          },
          "metadata": {},
          "output_type": "display_data"
        },
        {
          "name": "stdout",
          "output_type": "stream",
          "text": [
            "Converged in 127981 iterations\n",
            "Time elapsed for homemade algorithm: 40.457 s\n",
            "Time elapsed for numpy algorithm: 0.056 s\n"
          ]
        },
        {
          "data": {
            "text/latex": [
              "$\\displaystyle \\text{Homemade algorithm: } \\phi_1 = \\begin{pmatrix}0\\\\ -0.573\\\\ -0.295\\\\ 0\\\\ 0\\\\ 0.001\\\\ 0.001\\\\ 0\\end{pmatrix}\\quad \\lambda_1 = -5.624\\quad\\quad\\quad \\text{Numpy function:} \\quad \\phi_1 = \\begin{pmatrix}0\\\\ 0.583\\\\ -0.61\\\\ 0.274\\\\ 0\\\\ 0\\\\ 0\\\\ 0.001\\end{pmatrix}\\quad \\lambda_1 = -5.624$"
            ],
            "text/plain": [
              "<IPython.core.display.Math object>"
            ]
          },
          "metadata": {},
          "output_type": "display_data"
        },
        {
          "data": {
            "text/latex": [
              "$\\displaystyle \\underline{\\textbf{For Random Open Ising X mode}}$"
            ],
            "text/plain": [
              "<IPython.core.display.Math object>"
            ]
          },
          "metadata": {},
          "output_type": "display_data"
        },
        {
          "name": "stdout",
          "output_type": "stream",
          "text": [
            "Converged in 42908 iterations\n",
            "Time elapsed for homemade algorithm: 14.488 s\n",
            "Time elapsed for numpy algorithm: 0.048 s\n"
          ]
        },
        {
          "data": {
            "text/latex": [
              "$\\displaystyle \\text{Homemade algorithm: } \\phi_1 = \\begin{pmatrix}0\\\\ 0\\\\ 0.012\\\\ 0\\\\ 0\\\\ 0\\\\ 0\\\\ 0\\end{pmatrix}\\quad \\lambda_1 = -3.755\\quad\\quad\\quad \\text{Numpy function:} \\quad \\phi_1 = \\begin{pmatrix}0\\\\ 0\\\\ 0.003\\\\ -0.007\\\\ -0.001\\\\ 0.002\\\\ -0.001\\\\ 0\\end{pmatrix}\\quad \\lambda_1 = -3.755$"
            ],
            "text/plain": [
              "<IPython.core.display.Math object>"
            ]
          },
          "metadata": {},
          "output_type": "display_data"
        },
        {
          "data": {
            "text/latex": [
              "$\\displaystyle \\underline{\\textbf{For Spin Glass mode}}$"
            ],
            "text/plain": [
              "<IPython.core.display.Math object>"
            ]
          },
          "metadata": {},
          "output_type": "display_data"
        },
        {
          "name": "stdout",
          "output_type": "stream",
          "text": [
            "Converged in 29958 iterations\n",
            "Time elapsed for homemade algorithm: 9.710 s\n",
            "Time elapsed for numpy algorithm: 0.056 s\n"
          ]
        },
        {
          "data": {
            "text/latex": [
              "$\\displaystyle \\text{Homemade algorithm: } \\phi_1 = \\begin{pmatrix}0\\\\ 0.014\\\\ -0.001\\\\ 0\\\\ 0\\\\ -0.002\\\\ 0.001\\\\ 0\\end{pmatrix}\\quad \\lambda_1 = -5.347\\quad\\quad\\quad \\text{Numpy function:} \\quad \\phi_1 = \\begin{pmatrix}0\\\\ 0.124\\\\ -0.266\\\\ 0\\\\ 0\\\\ 0.005\\\\ 0\\\\ 0\\end{pmatrix}\\quad \\lambda_1 = -5.347$"
            ],
            "text/plain": [
              "<IPython.core.display.Math object>"
            ]
          },
          "metadata": {},
          "output_type": "display_data"
        }
      ],
      "source": [
        "# First excited state\n",
        "\n",
        "def first_excited_state(H, phi0, shift = None, kmax=1e6, eps=1e-8):\n",
        "    if shift is None:\n",
        "        shift = 100 #int(abs(np.amax(H)) * 10)\n",
        "    \n",
        "    phi = np.matrix(np.exp(1j * np.random.rand(H.shape[0]) * 2 * np.pi)).T\n",
        "    phi = phi - scalar(phi0.H @ phi) * phi0\n",
        "    phi = phi / np.linalg.norm(phi)\n",
        "\n",
        "    H = H - shift * np.eye(H.shape[0])\n",
        "\n",
        "    k = 0\n",
        "    while np.linalg.norm(H @ phi - scalar(phi.H @ H @ phi)*phi) > eps and (k < kmax):\n",
        "        phi = H @ phi\n",
        "        phi = phi - scalar(phi0.H @ phi) * phi0\n",
        "        phi = phi / np.linalg.norm(phi)\n",
        "        k += 1\n",
        "    print(f\"Converged in {k} iterations\")\n",
        "    H = H + shift * np.eye(H.shape[0])\n",
        "    return phi, scalar(phi.H @ H @ phi)\n",
        "\n",
        "for model in Model.all.values():\n",
        "\n",
        "    print_latex(r\"\\underline{\\textbf{For \" + model.name + r\" mode}}\")\n",
        "\n",
        "    start = time.time()\n",
        "    model.phi1, model.l1 = first_excited_state(model.H, model.phi0)\n",
        "    print(f\"Time elapsed for homemade algorithm: {time.time() - start:.3f} s\")\n",
        "\n",
        "    start = time.time()\n",
        "    eigs = np.linalg.eigh(model.H)\n",
        "    print(f\"Time elapsed for numpy algorithm: {time.time() - start:.3f} s\")\n",
        "\n",
        "    print_latex(r\"\\text{Homemade algorithm: } \\phi_1 = \"\n",
        "        + as_latex_matrix(model.phi1)\n",
        "        + (\" = \" + braket_notation(model.phi1) if model.N <= 3 else \"\")\n",
        "        + r\"\\quad \\lambda_1 = \"\n",
        "        + f\"{np.real(model.l1):.3f}\"\n",
        "        + r\"\\quad\\quad\\quad \\text{Numpy function:} \\quad \\phi_1 = \"\n",
        "        + as_latex_matrix(np.matrix(eigs[1][1].T))\n",
        "        + (\" = \" + braket_notation(eigs[1][1].T) if model.N <= 3 else \"\")\n",
        "        + r\"\\quad \\lambda_1 = \"\n",
        "        + f\"{eigs[0][1]:.3f}\")\n"
      ]
    },
    {
      "attachments": {},
      "cell_type": "markdown",
      "metadata": {},
      "source": [
        "As excpected, Numpy (and Scipy) are probably using other algorithms because they are able to reach a quasi perfect precision in an almost negligible time."
      ]
    },
    {
      "attachments": {},
      "cell_type": "markdown",
      "metadata": {},
      "source": [
        "# 2.3 Properties of the ground state\n",
        "\n",
        "### 2.3.1 Parra- and ferromagnetic systems"
      ]
    },
    {
      "attachments": {},
      "cell_type": "markdown",
      "metadata": {},
      "source": [
        "> **TP question:** For the models (2), (3) and (6) of Sec. 2.1: compute the ground state Vo), 8 (I(éo))\n",
        "and D(100)); plot on the same graph the populations, the modules of the coherences, and the von Neumann\n",
        "entropies with respect to the spins onto the lattice. Compare and comment the results.\n",
        "Hints: make your simulation with an increasing number of spins in order to debug your code. It can be\n",
        "interesting to plot graphs as a function of the system parameters, such as N • However, in the final\n",
        "report analyze only the cases asked above."
      ]
    },
    {
      "attachments": {},
      "cell_type": "markdown",
      "metadata": {},
      "source": [
        "### 2.3.2 Antiferromagnetic systems"
      ]
    },
    {
      "attachments": {},
      "cell_type": "markdown",
      "metadata": {},
      "source": [
        "> **TP question:** Compute the ground states of a ferromagnetic Ising-Z open chain of N = 8 spins (with\n",
        "w = 0., J = 1. a.u.) and of an antiferromagnetic Ising-Z open chain of N = 8 spins (with w = 0.,\n",
        "J = −1. a.u.). Compare the ground state of an antiferromagnetic material with the one of a ferromagnetic\n",
        "material. How are the spins organized in the two cases?"
      ]
    },
    {
      "attachments": {},
      "cell_type": "markdown",
      "metadata": {},
      "source": [
        "> **TP question:** Compute the ground states of a ferromagnetic Ising-Z closed chain of N = 3 spins (with\n",
        "w = 0., J = 1. a.u.) and of an antiferromagnetic Ising-Z closed chain of N = 3 spins (with w = 0., J = −1. a.u.). These chains can be interpreted as one cell of triangular lattices. Compare the ground states\n",
        "of these two spin triangles. What is the difference with the case of the open spin chains?"
      ]
    },
    {
      "attachments": {},
      "cell_type": "markdown",
      "metadata": {},
      "source": [
        "> **TP question:** From your observations and/or personal research in the literature, explain this notion."
      ]
    },
    {
      "attachments": {},
      "cell_type": "markdown",
      "metadata": {},
      "source": [
        "# Chapter 3 - Dynamics of lattice spin systems"
      ]
    },
    {
      "attachments": {},
      "cell_type": "markdown",
      "metadata": {},
      "source": [
        "## 3.1 Studied models"
      ]
    },
    {
      "attachments": {},
      "cell_type": "markdown",
      "metadata": {},
      "source": [
        "> **TP question:** For each model, build with python the quantum Hamiltonian H as a $2^N \\times 2^N$ array."
      ]
    },
    {
      "attachments": {},
      "cell_type": "markdown",
      "metadata": {},
      "source": [
        "## 3.2 Spectral integrator"
      ]
    },
    {
      "attachments": {},
      "cell_type": "markdown",
      "metadata": {},
      "source": [
        "> **TP question:** Define a python function corresponding to the spectral integrator with the following requirement:\n",
        ">\n",
        "> `def Dyn(H,t,psi0)`\n",
        ">    - input data\n",
        ">        - `H`: 2D array corresponding to the quantum Hamiltonian represented in any basis, or 1D array corresponding to the diagonal of the quantum Hamiltonian in its eigenbasis.\n",
        ">         - `t`: duration of the time propagation (real number).\n",
        ">        - `psi0`: 1D array corresponding to the initial quantum state represented in the same basis than H.\n",
        ">    - output\\\n",
        ">        - 1D array corresponding to |ψ(t)〉 = U (t, 0)|ψ0〉 represente in the same basis than H."
      ]
    },
    {
      "cell_type": "code",
      "execution_count": 16,
      "metadata": {},
      "outputs": [],
      "source": [
        "def Dyn(H,t,psi0):\n",
        "    return np.exp(-1j*H*t) @ psi0"
      ]
    },
    {
      "attachments": {},
      "cell_type": "markdown",
      "metadata": {},
      "source": [
        "## 3.3 Dynamics"
      ]
    },
    {
      "attachments": {},
      "cell_type": "markdown",
      "metadata": {},
      "source": [
        "> **TP question:** For each model (1) to (3) of Sec 3.1 integrate the Schrödinger equation on the time interval\n",
        "t ∈ [0, 500] a.u. and compute a list of lists:\n",
        "pop = [[(ρk(i∆t))11 for k ∈ {1, 7}] for i ∈ {0, Ntime}] ,\n",
        "where Ntime = 200 and ∆t = T\n",
        "Ntime . ρk(t) is the reduced density matrix of the k-th spin at time t, and then\n",
        "(ρk(t))11 is the population of the state |1〉 for the k-th spin at time t.\n",
        "For each model and for the two above initial conditions plot a density graph of the population of the state |1〉\n",
        "with respect to the spins of the chain (abscissae) and to the time (ordinates), with a color gradient associated\n",
        "with the occupation probability of |1〉 (in [0, 1])."
      ]
    },
    {
      "attachments": {},
      "cell_type": "markdown",
      "metadata": {},
      "source": [
        "> **TP question:** Comment the graphs. Explain the behaviours of the quantum excitation. What is the im-\n",
        "portant difference between open and closed chains? For the model (1) let vary w and J (using also smaller\n",
        "and larger values than the ones used before), to establish how the propagation of a quantum excitation in the\n",
        "spin chain depends on the Larmor frequency and the exchange integral (study in particular the propagation\n",
        "speed of the quantum excitation)."
      ]
    },
    {
      "attachments": {},
      "cell_type": "markdown",
      "metadata": {},
      "source": [
        "# Chapter 4 - Control of lattice spin systems"
      ]
    },
    {
      "attachments": {},
      "cell_type": "markdown",
      "metadata": {},
      "source": [
        "## 4.1 Introduction to quantum control"
      ]
    },
    {
      "attachments": {},
      "cell_type": "markdown",
      "metadata": {},
      "source": [
        "## 4.2 Adiabatic quantum control: quantum annealing"
      ]
    },
    {
      "attachments": {},
      "cell_type": "markdown",
      "metadata": {},
      "source": [
        "### 4.2.1 Adiabatic quantum control"
      ]
    },
    {
      "attachments": {},
      "cell_type": "markdown",
      "metadata": {},
      "source": [
        "### 4.2.2 Quantum annealing"
      ]
    },
    {
      "attachments": {},
      "cell_type": "markdown",
      "metadata": {},
      "source": [
        "> **TP question**: Find ˆxi, the quantum operator equivalent to the classical binary variable xi with respect to\n",
        "id2 and σiz (ˆxi|0〉 = 0 and ˆxi|1〉 = |1〉). Deduce the values of the Larmor frequencies wi and of the exchange\n",
        "integrals Jij with respect to the polynomial coefficients ui and eij "
      ]
    },
    {
      "attachments": {},
      "cell_type": "markdown",
      "metadata": {},
      "source": [
        "> **TP question:** Define a python function corresponding to a degree 2 polynomial P with 5 variables and\n",
        "with integer coefficients randomly chosen in {−10, ..., 10}."
      ]
    },
    {
      "attachments": {},
      "cell_type": "markdown",
      "metadata": {},
      "source": [
        "> **TP question:** Code a python program classically solving the QUBO problem by testing one by one all 5\n",
        "digit binary numbers. Build a python function corresponding to t 7 → H(t) (we can choose w0 = 1 a.u.).\n",
        "Integrate the Schrödinger equation until T = 100 a.u. with |ψ0〉 chosen as the ground state of Hin."
      ]
    },
    {
      "attachments": {},
      "cell_type": "markdown",
      "metadata": {},
      "source": [
        "> **TP question:** Verify the adiabatic assumption by computing at each time step |〈φ0(t)|ψ(t)〉|2, where |φ0(t)〉\n",
        "is the ground state of H(t), and draw the graph representing this quantity (the adiabatic tracking probability)\n",
        "with respect to t."
      ]
    },
    {
      "attachments": {},
      "cell_type": "markdown",
      "metadata": {},
      "source": [
        "> **TP question:** Return the Dirac representation of |ψ(T )〉 in the binary basis."
      ]
    },
    {
      "attachments": {},
      "cell_type": "markdown",
      "metadata": {},
      "source": [
        "> **TP question:** Compare the solution of the QUBO problem found with the classical algorithm with |ψ(T )〉\n",
        "and comment. Let T vary in order to find the minimal time for which the adiabatic assumption seems valid"
      ]
    }
  ],
  "metadata": {
    "colab": {
      "provenance": [],
      "toc_visible": true
    },
    "kernelspec": {
      "display_name": "venv",
      "language": "python",
      "name": "python3"
    },
    "language_info": {
      "codemirror_mode": {
        "name": "ipython",
        "version": 3
      },
      "file_extension": ".py",
      "mimetype": "text/x-python",
      "name": "python",
      "nbconvert_exporter": "python",
      "pygments_lexer": "ipython3",
      "version": "3.10.9"
    },
    "orig_nbformat": 4,
    "vscode": {
      "interpreter": {
        "hash": "d4141328329d0bd29f29617230ba334945d6568b1bbcfd9fc7c5efa9f500884c"
      }
    }
  },
  "nbformat": 4,
  "nbformat_minor": 0
}
