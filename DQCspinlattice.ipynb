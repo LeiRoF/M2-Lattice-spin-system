{
 "cells": [
  {
   "cell_type": "code",
   "execution_count": 10,
   "metadata": {},
   "outputs": [],
   "source": [
    "import numpy as np\n",
    "import scipy as sp\n",
    "from numpy import linalg as la\n",
    "import matplotlib.pyplot as plt\n",
    "from numpy import linalg as LA;\n",
    "from scipy import linalg as LA2;\n",
    "from numpy import random as rand\n",
    "from scipy.sparse import diags\n"
   ]
  },
  {
   "cell_type": "code",
   "execution_count": 11,
   "metadata": {},
   "outputs": [],
   "source": [
    "def tensorvect(a,b):\n",
    "    return(np.tensordot(a,b,axes=0).flatten())\n",
    "\n",
    "def tensorvectop(a,b):\n",
    "    return LA2.kron(a,b)\n",
    "\n",
    "def opchain(a,i,nspin):\n",
    "    if i==1:\n",
    "        return LA2.kron(a,np.identity(2**(nspin-1)))\n",
    "    else:\n",
    "        if i==nspin:\n",
    "            return LA2.kron(np.identity(2**(nspin-1)),a)\n",
    "        else:\n",
    "            return LA2.kron(LA2.kron(np.identity(2**(i-1)),a),np.identity(2**(nspin-i)))\n",
    "        \n",
    "def opchain2(a,i,b,j,nspin):\n",
    "    if i==1:\n",
    "        if j==nspin:\n",
    "            return LA2.kron(LA2.kron(a,np.identity(2**(nspin-2))),b)\n",
    "        else:\n",
    "            return LA2.kron(LA2.kron(a,np.identity(2**(j-2))),LA2.kron(b,np.identity(2**(nspin-j))))      \n",
    "    else:\n",
    "        if j==nspin:\n",
    "            return LA2.kron(LA2.kron(np.identity(2**(i-1)),a),LA2.kron(np.identity(2**(nspin-(i+1))),b))\n",
    "        else:\n",
    "            return LA2.kron(LA2.kron(LA2.kron(np.identity(2**(i-1)),a),LA2.kron(np.identity(2**(j-(i+1))),b)),np.identity(2**(nspin-j)))\n",
    "            \n",
    "def buildstate(bin):\n",
    "    v=[0. for i in range(2**len(bin))];\n",
    "    v[int(bin,2)]=1.\n",
    "    return np.array(v)\n",
    "\n",
    "\n",
    "def diracrep(psi,nspin):\n",
    "    state='';\n",
    "    for i in range(2**nspin):\n",
    "        if abs(psi[i])>10**(-6):\n",
    "            state=state+'+'+str(psi[i])+'|'+format(i,'0'+str(nspin)+'b')+'>'\n",
    "    return state\n",
    "\n",
    "def binnum(n):\n",
    "    l=['0','1'];\n",
    "    if n==1:\n",
    "        return l\n",
    "    else:\n",
    "        return ['0'+i for i in binnum(n-1)]+['1'+i for i in binnum(n-1)]\n",
    "    \n",
    "def densmat(psi,i,nspin):\n",
    "    if i>1:\n",
    "        listindex0=binnum(i-1)\n",
    "        listindex0=[j+'0' for j in listindex0]\n",
    "    else:\n",
    "        listindex0=['0']\n",
    "    if i<nspin:\n",
    "        listcomp=binnum(nspin-i)\n",
    "        listindex0=list(np.array([[j+k for k in listcomp] for j in listindex0]).flatten())\n",
    "    if i>1:\n",
    "        listindex1=binnum(i-1)\n",
    "        listindex1=[j+'1' for j in listindex1]\n",
    "    else:\n",
    "        listindex1=['1']\n",
    "    if i<nspin:\n",
    "        listcomp=binnum(nspin-i)\n",
    "        listindex1=list(np.array([[j+k for k in listcomp] for j in listindex1]).flatten())\n",
    "    rho00=sum(psi[int(j,2)]*np.conjugate(psi[int(j,2)]) for j in listindex0)\n",
    "    rho11=sum(psi[int(j,2)]*np.conjugate(psi[int(j,2)]) for j in listindex1)\n",
    "    rho01=sum(psi[int(j,2)]*np.conjugate(psi[int(listindex1[listindex0.index(j)],2)]) for j in listindex0)\n",
    "    return np.array([[rho00,rho01],[np.conjugate(rho01),rho11]])\n",
    "\n",
    "def avdensmat(psi,nspin):\n",
    "    rho=densmat(psi,1,nspin);\n",
    "    if nspin>1:\n",
    "        for i in range(2,nspin+1):\n",
    "            rho=rho+densmat(psi,i,nspin)\n",
    "    rho=rho/nspin;\n",
    "    return rho\n",
    "\n",
    "def purity(rho):\n",
    "    rho2 = np.dot(rho,rho)\n",
    "    tr = np.trace(rho2)\n",
    "    return(tr)\n",
    "\n",
    "def SvN(rho):\n",
    "    vp=np.real(LA.eigvals(rho));\n",
    "    S=0.;\n",
    "    for i in range(len(vp)):\n",
    "        if vp[i]>0.:\n",
    "            S=S+vp[i]*np.log(vp[i])\n",
    "    return -S\n",
    "\n",
    "def entangl(psi,nspin):\n",
    "    S=SvN(densmat(psi,1,nspin));\n",
    "    if nspin>1:\n",
    "        for i in range(2,nspin+1):\n",
    "            S=S+SvN(densmat(psi,i,nspin))\n",
    "    return S/nspin\n",
    "\n",
    "def Disorder(psi,nspin):\n",
    "    return SvN(avdensmat(psi,nspin))-entangl(psi,nspin)"
   ]
  },
  {
   "cell_type": "code",
   "execution_count": 12,
   "metadata": {},
   "outputs": [],
   "source": [
    "sigX=np.array([[0.,1.],[1.,0.]]);\n",
    "sigY=np.array([[0.,-1j],[1j,0.]]);\n",
    "sigZ=np.array([[1.,0.],[0.,-1.]]);\n",
    "sig1=np.array([[1.,0.],[0.,0.]]);\n",
    "id2 =np.array([[1.,0.],[0.,1.]]);\n",
    "\n",
    "NOT=sigX;\n",
    "HAD1=np.array([[1./np.sqrt(2.),1./np.sqrt(2.)],[1./np.sqrt(2.),-1./np.sqrt(2.)]]);\n",
    "CNOT=np.array([[1.,0.,0.,0.],[0.,1.,0.,0.],[0.,0.,0.,1.],[0.,0.,1.,0.]]);\n",
    "HAD2=np.array([[0.5,0.5,0.5,0.5],[0.5,-0.5,0.5,-0.5],[0.5,0.5,-0.5,-0.5],[0.5,-0.5,-0.5,0.5]]);\n",
    "SWAP=np.array([[1.,0.,0.,0.],[0.,0.,1.,0.],[0.,1.,0.,0.],[0.,0.,0.,1.]]);"
   ]
  },
  {
   "cell_type": "markdown",
   "metadata": {},
   "source": [
    "Hamiltonian test for a three-spin chain XYZ"
   ]
  },
  {
   "cell_type": "code",
   "execution_count": 13,
   "metadata": {
    "scrolled": true
   },
   "outputs": [],
   "source": [
    "Jxyz = [0.5, 1., 1.5]\n",
    "# H_XYZ = QuantumHamiltonian(Jxyz,omega,N3,0) #open\n",
    "# H_XYZ"
   ]
  }
 ],
 "metadata": {
  "kernelspec": {
   "display_name": "Python 3.11.0 64-bit (microsoft store)",
   "language": "python",
   "name": "python3"
  },
  "language_info": {
   "codemirror_mode": {
    "name": "ipython",
    "version": 3
   },
   "file_extension": ".py",
   "mimetype": "text/x-python",
   "name": "python",
   "nbconvert_exporter": "python",
   "pygments_lexer": "ipython3",
   "version": "3.11.0"
  },
  "vscode": {
   "interpreter": {
    "hash": "50148f3f7e21c61ce3db367594dbde7641f202eb4c944671f9cb9e2c7e8f199d"
   }
  }
 },
 "nbformat": 4,
 "nbformat_minor": 4
}
